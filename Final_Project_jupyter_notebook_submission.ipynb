{
 "cells": [
  {
   "cell_type": "markdown",
   "metadata": {},
   "source": [
    "# CS 109a Recommendations"
   ]
  },
  {
   "cell_type": "markdown",
   "metadata": {},
   "source": [
    "## PROJECT INFO"
   ]
  },
  {
   "cell_type": "markdown",
   "metadata": {},
   "source": [
    "#### Team Members\n",
    "Maciej Holubiec, Jimena Romero Pinto, Paul von Chamier\n",
    "\n",
    "---"
   ]
  },
  {
   "cell_type": "code",
   "execution_count": 5,
   "metadata": {
    "collapsed": true
   },
   "outputs": [],
   "source": [
    "import matplotlib.pyplot as plt\n",
    "import datetime as dt\n",
    "import pandas as pd\n",
    "import numpy as np\n",
    "import json\n",
    "from sklearn.linear_model import Ridge\n",
    "from sklearn.linear_model import LassoCV\n",
    "from sklearn.model_selection import KFold\n",
    "from sklearn.model_selection import GridSearchCV\n",
    "from sklearn.linear_model import Lasso"
   ]
  },
  {
   "cell_type": "markdown",
   "metadata": {},
   "source": [
    "# LOAD DATA"
   ]
  },
  {
   "cell_type": "markdown",
   "metadata": {},
   "source": [
    "*** Only for the first time. For later uses skip to the \"RELOAD DATA\" part. Make sure to download smaller (prepocessed) datasets before running it ***"
   ]
  },
  {
   "cell_type": "code",
   "execution_count": null,
   "metadata": {
    "collapsed": true
   },
   "outputs": [],
   "source": [
    "# LOAD USER\n",
    "df_user = pd.read_json(\"user.json\", lines = True)"
   ]
  },
  {
   "cell_type": "code",
   "execution_count": null,
   "metadata": {
    "collapsed": true
   },
   "outputs": [],
   "source": [
    "# LOAD BUSINESS\n",
    "df_business = pd.read_json(\"business.json\", lines = True)"
   ]
  },
  {
   "cell_type": "code",
   "execution_count": null,
   "metadata": {
    "collapsed": true
   },
   "outputs": [],
   "source": [
    "# LOAD REVIEWS\n",
    "with open('review.json', encoding=\"utf8\") as json_file:      \n",
    "    data_review = json_file.readlines()\n",
    "    # this line below may take at least 8-10 minutes of processing for 4-5 million rows. It converts all strings in list to actual json objects. \n",
    "    data_review = list(map(json.loads, data_review)) \n",
    "\n",
    "df_review = pd.DataFrame(data_review)"
   ]
  },
  {
   "cell_type": "markdown",
   "metadata": {},
   "source": [
    "# PROCESS"
   ]
  },
  {
   "cell_type": "markdown",
   "metadata": {},
   "source": [
    "### Select restaurants with more than 30 reviews"
   ]
  },
  {
   "cell_type": "code",
   "execution_count": null,
   "metadata": {
    "collapsed": true
   },
   "outputs": [],
   "source": [
    "df_business.shape"
   ]
  },
  {
   "cell_type": "code",
   "execution_count": null,
   "metadata": {
    "collapsed": true
   },
   "outputs": [],
   "source": [
    "df_business = df_business.drop([\"hours\", \"is_open\", \"latitude\", \"longitude\", \"postal_code\", \"neighborhood\", \"attributes\"], axis = 1)"
   ]
  },
  {
   "cell_type": "code",
   "execution_count": null,
   "metadata": {
    "collapsed": true
   },
   "outputs": [],
   "source": [
    "df_business_350 = df_business[df_business[\"review_count\"] > 350]"
   ]
  },
  {
   "cell_type": "code",
   "execution_count": null,
   "metadata": {
    "collapsed": true
   },
   "outputs": [],
   "source": [
    "df_business_350.shape"
   ]
  },
  {
   "cell_type": "markdown",
   "metadata": {},
   "source": [
    "### Select users who gave more than 100 reviews"
   ]
  },
  {
   "cell_type": "code",
   "execution_count": null,
   "metadata": {
    "collapsed": true
   },
   "outputs": [],
   "source": [
    "df_users.shape"
   ]
  },
  {
   "cell_type": "code",
   "execution_count": null,
   "metadata": {
    "collapsed": true
   },
   "outputs": [],
   "source": [
    "df_user = df_user[[\"user_id\", \"review_count\"]]"
   ]
  },
  {
   "cell_type": "code",
   "execution_count": null,
   "metadata": {
    "collapsed": true
   },
   "outputs": [],
   "source": [
    "df_users_150 = df_user[df_user[\"review_count\"] > 150]"
   ]
  },
  {
   "cell_type": "code",
   "execution_count": null,
   "metadata": {
    "collapsed": true
   },
   "outputs": [],
   "source": [
    "df_users_150.shape"
   ]
  },
  {
   "cell_type": "markdown",
   "metadata": {},
   "source": [
    "### Filter out reviews to those corresponding to selected users and restaurants"
   ]
  },
  {
   "cell_type": "code",
   "execution_count": null,
   "metadata": {
    "collapsed": true
   },
   "outputs": [],
   "source": [
    "df_review.shape"
   ]
  },
  {
   "cell_type": "code",
   "execution_count": null,
   "metadata": {
    "collapsed": true
   },
   "outputs": [],
   "source": [
    "df_review = df_review.drop([\"cool\", \"date\", \"funny\", \"review_id\", \"text\", \"useful\"], axis = 1)"
   ]
  },
  {
   "cell_type": "code",
   "execution_count": 24,
   "metadata": {
    "collapsed": true
   },
   "outputs": [],
   "source": [
    "df_review_350_150 = df_review[df_review[\"user_id\"].isin(df_users_150[\"user_id\"])]"
   ]
  },
  {
   "cell_type": "code",
   "execution_count": 27,
   "metadata": {
    "collapsed": true,
    "scrolled": false
   },
   "outputs": [],
   "source": [
    "df_review_350_150 = df_review_350_150[df_review_350_150[\"business_id\"].isin(df_business_350[\"business_id\"])]"
   ]
  },
  {
   "cell_type": "markdown",
   "metadata": {},
   "source": [
    "### Save data for future reference so we deal with smaller files"
   ]
  },
  {
   "cell_type": "code",
   "execution_count": null,
   "metadata": {
    "collapsed": true
   },
   "outputs": [],
   "source": [
    "df_users_150.to_json(\"df_user_150.json\")"
   ]
  },
  {
   "cell_type": "code",
   "execution_count": null,
   "metadata": {
    "collapsed": true
   },
   "outputs": [],
   "source": [
    "df_business_350.to_json(\"df_business_350.json\")"
   ]
  },
  {
   "cell_type": "code",
   "execution_count": 30,
   "metadata": {
    "collapsed": true
   },
   "outputs": [],
   "source": [
    "df_review_350_150.to_json(\"df_review_350_150.json\")"
   ]
  },
  {
   "cell_type": "markdown",
   "metadata": {},
   "source": [
    "# RELOAD DATA"
   ]
  },
  {
   "cell_type": "code",
   "execution_count": 82,
   "metadata": {
    "collapsed": true
   },
   "outputs": [],
   "source": [
    "df_user = pd.read_json(\"df_user_100.json\")"
   ]
  },
  {
   "cell_type": "code",
   "execution_count": 81,
   "metadata": {
    "collapsed": true
   },
   "outputs": [],
   "source": [
    "df_business = pd.read_json(\"df_business_30.json\")"
   ]
  },
  {
   "cell_type": "code",
   "execution_count": 6,
   "metadata": {},
   "outputs": [],
   "source": [
    "df_review = pd.read_json(\"df_review_350_150.json\")"
   ]
  },
  {
   "cell_type": "markdown",
   "metadata": {},
   "source": [
    "### Sample from the data frame because the dataset is still too big"
   ]
  },
  {
   "cell_type": "code",
   "execution_count": 7,
   "metadata": {},
   "outputs": [],
   "source": [
    "np.random.seed(9001)\n",
    "fraction_of_df = 0.15"
   ]
  },
  {
   "cell_type": "code",
   "execution_count": 8,
   "metadata": {
    "collapsed": true
   },
   "outputs": [],
   "source": [
    "df_review_smaller = df_review.sample(frac=fraction_of_df)"
   ]
  },
  {
   "cell_type": "code",
   "execution_count": 9,
   "metadata": {},
   "outputs": [
    {
     "data": {
      "text/plain": [
       "(38198, 3)"
      ]
     },
     "execution_count": 9,
     "metadata": {},
     "output_type": "execute_result"
    }
   ],
   "source": [
    "df_review_smaller.shape"
   ]
  },
  {
   "cell_type": "code",
   "execution_count": 10,
   "metadata": {
    "collapsed": true
   },
   "outputs": [],
   "source": [
    "df_review_smaller.to_json(\"df_review_smaller.json\")"
   ]
  },
  {
   "cell_type": "code",
   "execution_count": 2,
   "metadata": {
    "collapsed": true
   },
   "outputs": [],
   "source": [
    "df_review_smaller = pd.read_json(\"df_review_smaller.json\")"
   ]
  },
  {
   "cell_type": "markdown",
   "metadata": {},
   "source": [
    "### Create latent matrix"
   ]
  },
  {
   "cell_type": "code",
   "execution_count": 11,
   "metadata": {
    "scrolled": true
   },
   "outputs": [
    {
     "data": {
      "text/html": [
       "<div>\n",
       "<style>\n",
       "    .dataframe thead tr:only-child th {\n",
       "        text-align: right;\n",
       "    }\n",
       "\n",
       "    .dataframe thead th {\n",
       "        text-align: left;\n",
       "    }\n",
       "\n",
       "    .dataframe tbody tr th {\n",
       "        vertical-align: top;\n",
       "    }\n",
       "</style>\n",
       "<table border=\"1\" class=\"dataframe\">\n",
       "  <thead>\n",
       "    <tr style=\"text-align: right;\">\n",
       "      <th>business_id</th>\n",
       "      <th>--9e1ONYQuAa-CB_Rrw7Tw</th>\n",
       "      <th>-050d_XIor1NpCuWkbIVaQ</th>\n",
       "      <th>-1xuC540Nycht_iWFeJ-dw</th>\n",
       "      <th>-2ToCaDFpTNmmg3QFzxcWg</th>\n",
       "      <th>-3zffZUHoY8bQjGfPSoBKQ</th>\n",
       "      <th>-6h3K1hj0d4DRcZNUtHDuw</th>\n",
       "      <th>-6tvduBzjLI1ISfs3F_qTg</th>\n",
       "      <th>-7H-oXvCxJzuT42ky6Db0g</th>\n",
       "      <th>-95mbLJsa0CxXhpaNL4LvA</th>\n",
       "      <th>-9dmhyBvepc08KPEHlEM0w</th>\n",
       "      <th>...</th>\n",
       "      <th>zcScEL0WEdFkROcnz5379g</th>\n",
       "      <th>zdE82PiD6wquvjYLyhOJNA</th>\n",
       "      <th>zgQHtqX0gqMw1nlBZl2VnQ</th>\n",
       "      <th>zlpLjbwrKuNs8zROgB_qUQ</th>\n",
       "      <th>znWHLW1pt19HzW1VY6KfCA</th>\n",
       "      <th>zoODlH40edpJYLPLkHilNA</th>\n",
       "      <th>zpoZ6WyQUYff18-z4ZU1mA</th>\n",
       "      <th>zrDi4gEaUi64lAMfJU51dw</th>\n",
       "      <th>zrTGcb83AsfyVTMrsCa65A</th>\n",
       "      <th>zwNC-Ow4eIMan2__bS9-rg</th>\n",
       "    </tr>\n",
       "    <tr>\n",
       "      <th>user_id</th>\n",
       "      <th></th>\n",
       "      <th></th>\n",
       "      <th></th>\n",
       "      <th></th>\n",
       "      <th></th>\n",
       "      <th></th>\n",
       "      <th></th>\n",
       "      <th></th>\n",
       "      <th></th>\n",
       "      <th></th>\n",
       "      <th></th>\n",
       "      <th></th>\n",
       "      <th></th>\n",
       "      <th></th>\n",
       "      <th></th>\n",
       "      <th></th>\n",
       "      <th></th>\n",
       "      <th></th>\n",
       "      <th></th>\n",
       "      <th></th>\n",
       "      <th></th>\n",
       "    </tr>\n",
       "  </thead>\n",
       "  <tbody>\n",
       "    <tr>\n",
       "      <th>---1lKK3aKOuomHnwAkAow</th>\n",
       "      <td>NaN</td>\n",
       "      <td>NaN</td>\n",
       "      <td>NaN</td>\n",
       "      <td>NaN</td>\n",
       "      <td>NaN</td>\n",
       "      <td>NaN</td>\n",
       "      <td>NaN</td>\n",
       "      <td>NaN</td>\n",
       "      <td>NaN</td>\n",
       "      <td>NaN</td>\n",
       "      <td>...</td>\n",
       "      <td>NaN</td>\n",
       "      <td>NaN</td>\n",
       "      <td>NaN</td>\n",
       "      <td>NaN</td>\n",
       "      <td>NaN</td>\n",
       "      <td>NaN</td>\n",
       "      <td>NaN</td>\n",
       "      <td>NaN</td>\n",
       "      <td>NaN</td>\n",
       "      <td>NaN</td>\n",
       "    </tr>\n",
       "    <tr>\n",
       "      <th>--2vR0DIsmQ6WfcSzKWigw</th>\n",
       "      <td>NaN</td>\n",
       "      <td>NaN</td>\n",
       "      <td>NaN</td>\n",
       "      <td>NaN</td>\n",
       "      <td>NaN</td>\n",
       "      <td>NaN</td>\n",
       "      <td>NaN</td>\n",
       "      <td>NaN</td>\n",
       "      <td>NaN</td>\n",
       "      <td>NaN</td>\n",
       "      <td>...</td>\n",
       "      <td>NaN</td>\n",
       "      <td>NaN</td>\n",
       "      <td>NaN</td>\n",
       "      <td>NaN</td>\n",
       "      <td>NaN</td>\n",
       "      <td>NaN</td>\n",
       "      <td>NaN</td>\n",
       "      <td>NaN</td>\n",
       "      <td>NaN</td>\n",
       "      <td>NaN</td>\n",
       "    </tr>\n",
       "    <tr>\n",
       "      <th>--4q8EyqThydQm-eKZpS-A</th>\n",
       "      <td>NaN</td>\n",
       "      <td>NaN</td>\n",
       "      <td>NaN</td>\n",
       "      <td>NaN</td>\n",
       "      <td>NaN</td>\n",
       "      <td>NaN</td>\n",
       "      <td>NaN</td>\n",
       "      <td>NaN</td>\n",
       "      <td>NaN</td>\n",
       "      <td>NaN</td>\n",
       "      <td>...</td>\n",
       "      <td>NaN</td>\n",
       "      <td>NaN</td>\n",
       "      <td>NaN</td>\n",
       "      <td>NaN</td>\n",
       "      <td>NaN</td>\n",
       "      <td>NaN</td>\n",
       "      <td>NaN</td>\n",
       "      <td>NaN</td>\n",
       "      <td>NaN</td>\n",
       "      <td>NaN</td>\n",
       "    </tr>\n",
       "    <tr>\n",
       "      <th>--56mD0sm1eOogphi2FFLw</th>\n",
       "      <td>NaN</td>\n",
       "      <td>NaN</td>\n",
       "      <td>NaN</td>\n",
       "      <td>NaN</td>\n",
       "      <td>NaN</td>\n",
       "      <td>NaN</td>\n",
       "      <td>NaN</td>\n",
       "      <td>NaN</td>\n",
       "      <td>NaN</td>\n",
       "      <td>NaN</td>\n",
       "      <td>...</td>\n",
       "      <td>NaN</td>\n",
       "      <td>NaN</td>\n",
       "      <td>NaN</td>\n",
       "      <td>NaN</td>\n",
       "      <td>NaN</td>\n",
       "      <td>NaN</td>\n",
       "      <td>NaN</td>\n",
       "      <td>NaN</td>\n",
       "      <td>NaN</td>\n",
       "      <td>NaN</td>\n",
       "    </tr>\n",
       "    <tr>\n",
       "      <th>--CIuK7sUpaNzalLAlHJKA</th>\n",
       "      <td>NaN</td>\n",
       "      <td>NaN</td>\n",
       "      <td>NaN</td>\n",
       "      <td>NaN</td>\n",
       "      <td>NaN</td>\n",
       "      <td>NaN</td>\n",
       "      <td>NaN</td>\n",
       "      <td>NaN</td>\n",
       "      <td>NaN</td>\n",
       "      <td>NaN</td>\n",
       "      <td>...</td>\n",
       "      <td>NaN</td>\n",
       "      <td>NaN</td>\n",
       "      <td>NaN</td>\n",
       "      <td>NaN</td>\n",
       "      <td>NaN</td>\n",
       "      <td>NaN</td>\n",
       "      <td>NaN</td>\n",
       "      <td>NaN</td>\n",
       "      <td>NaN</td>\n",
       "      <td>NaN</td>\n",
       "    </tr>\n",
       "  </tbody>\n",
       "</table>\n",
       "<p>5 rows × 1523 columns</p>\n",
       "</div>"
      ],
      "text/plain": [
       "business_id             --9e1ONYQuAa-CB_Rrw7Tw  -050d_XIor1NpCuWkbIVaQ  \\\n",
       "user_id                                                                  \n",
       "---1lKK3aKOuomHnwAkAow                     NaN                     NaN   \n",
       "--2vR0DIsmQ6WfcSzKWigw                     NaN                     NaN   \n",
       "--4q8EyqThydQm-eKZpS-A                     NaN                     NaN   \n",
       "--56mD0sm1eOogphi2FFLw                     NaN                     NaN   \n",
       "--CIuK7sUpaNzalLAlHJKA                     NaN                     NaN   \n",
       "\n",
       "business_id             -1xuC540Nycht_iWFeJ-dw  -2ToCaDFpTNmmg3QFzxcWg  \\\n",
       "user_id                                                                  \n",
       "---1lKK3aKOuomHnwAkAow                     NaN                     NaN   \n",
       "--2vR0DIsmQ6WfcSzKWigw                     NaN                     NaN   \n",
       "--4q8EyqThydQm-eKZpS-A                     NaN                     NaN   \n",
       "--56mD0sm1eOogphi2FFLw                     NaN                     NaN   \n",
       "--CIuK7sUpaNzalLAlHJKA                     NaN                     NaN   \n",
       "\n",
       "business_id             -3zffZUHoY8bQjGfPSoBKQ  -6h3K1hj0d4DRcZNUtHDuw  \\\n",
       "user_id                                                                  \n",
       "---1lKK3aKOuomHnwAkAow                     NaN                     NaN   \n",
       "--2vR0DIsmQ6WfcSzKWigw                     NaN                     NaN   \n",
       "--4q8EyqThydQm-eKZpS-A                     NaN                     NaN   \n",
       "--56mD0sm1eOogphi2FFLw                     NaN                     NaN   \n",
       "--CIuK7sUpaNzalLAlHJKA                     NaN                     NaN   \n",
       "\n",
       "business_id             -6tvduBzjLI1ISfs3F_qTg  -7H-oXvCxJzuT42ky6Db0g  \\\n",
       "user_id                                                                  \n",
       "---1lKK3aKOuomHnwAkAow                     NaN                     NaN   \n",
       "--2vR0DIsmQ6WfcSzKWigw                     NaN                     NaN   \n",
       "--4q8EyqThydQm-eKZpS-A                     NaN                     NaN   \n",
       "--56mD0sm1eOogphi2FFLw                     NaN                     NaN   \n",
       "--CIuK7sUpaNzalLAlHJKA                     NaN                     NaN   \n",
       "\n",
       "business_id             -95mbLJsa0CxXhpaNL4LvA  -9dmhyBvepc08KPEHlEM0w  \\\n",
       "user_id                                                                  \n",
       "---1lKK3aKOuomHnwAkAow                     NaN                     NaN   \n",
       "--2vR0DIsmQ6WfcSzKWigw                     NaN                     NaN   \n",
       "--4q8EyqThydQm-eKZpS-A                     NaN                     NaN   \n",
       "--56mD0sm1eOogphi2FFLw                     NaN                     NaN   \n",
       "--CIuK7sUpaNzalLAlHJKA                     NaN                     NaN   \n",
       "\n",
       "business_id                      ...            zcScEL0WEdFkROcnz5379g  \\\n",
       "user_id                          ...                                     \n",
       "---1lKK3aKOuomHnwAkAow           ...                               NaN   \n",
       "--2vR0DIsmQ6WfcSzKWigw           ...                               NaN   \n",
       "--4q8EyqThydQm-eKZpS-A           ...                               NaN   \n",
       "--56mD0sm1eOogphi2FFLw           ...                               NaN   \n",
       "--CIuK7sUpaNzalLAlHJKA           ...                               NaN   \n",
       "\n",
       "business_id             zdE82PiD6wquvjYLyhOJNA  zgQHtqX0gqMw1nlBZl2VnQ  \\\n",
       "user_id                                                                  \n",
       "---1lKK3aKOuomHnwAkAow                     NaN                     NaN   \n",
       "--2vR0DIsmQ6WfcSzKWigw                     NaN                     NaN   \n",
       "--4q8EyqThydQm-eKZpS-A                     NaN                     NaN   \n",
       "--56mD0sm1eOogphi2FFLw                     NaN                     NaN   \n",
       "--CIuK7sUpaNzalLAlHJKA                     NaN                     NaN   \n",
       "\n",
       "business_id             zlpLjbwrKuNs8zROgB_qUQ  znWHLW1pt19HzW1VY6KfCA  \\\n",
       "user_id                                                                  \n",
       "---1lKK3aKOuomHnwAkAow                     NaN                     NaN   \n",
       "--2vR0DIsmQ6WfcSzKWigw                     NaN                     NaN   \n",
       "--4q8EyqThydQm-eKZpS-A                     NaN                     NaN   \n",
       "--56mD0sm1eOogphi2FFLw                     NaN                     NaN   \n",
       "--CIuK7sUpaNzalLAlHJKA                     NaN                     NaN   \n",
       "\n",
       "business_id             zoODlH40edpJYLPLkHilNA  zpoZ6WyQUYff18-z4ZU1mA  \\\n",
       "user_id                                                                  \n",
       "---1lKK3aKOuomHnwAkAow                     NaN                     NaN   \n",
       "--2vR0DIsmQ6WfcSzKWigw                     NaN                     NaN   \n",
       "--4q8EyqThydQm-eKZpS-A                     NaN                     NaN   \n",
       "--56mD0sm1eOogphi2FFLw                     NaN                     NaN   \n",
       "--CIuK7sUpaNzalLAlHJKA                     NaN                     NaN   \n",
       "\n",
       "business_id             zrDi4gEaUi64lAMfJU51dw  zrTGcb83AsfyVTMrsCa65A  \\\n",
       "user_id                                                                  \n",
       "---1lKK3aKOuomHnwAkAow                     NaN                     NaN   \n",
       "--2vR0DIsmQ6WfcSzKWigw                     NaN                     NaN   \n",
       "--4q8EyqThydQm-eKZpS-A                     NaN                     NaN   \n",
       "--56mD0sm1eOogphi2FFLw                     NaN                     NaN   \n",
       "--CIuK7sUpaNzalLAlHJKA                     NaN                     NaN   \n",
       "\n",
       "business_id             zwNC-Ow4eIMan2__bS9-rg  \n",
       "user_id                                         \n",
       "---1lKK3aKOuomHnwAkAow                     NaN  \n",
       "--2vR0DIsmQ6WfcSzKWigw                     NaN  \n",
       "--4q8EyqThydQm-eKZpS-A                     NaN  \n",
       "--56mD0sm1eOogphi2FFLw                     NaN  \n",
       "--CIuK7sUpaNzalLAlHJKA                     NaN  \n",
       "\n",
       "[5 rows x 1523 columns]"
      ]
     },
     "execution_count": 11,
     "metadata": {},
     "output_type": "execute_result"
    }
   ],
   "source": [
    "r_df = df_review_smaller.pivot(index = 'user_id', columns ='business_id', values = 'stars')\n",
    "r_df.head()"
   ]
  },
  {
   "cell_type": "code",
   "execution_count": 12,
   "metadata": {},
   "outputs": [
    {
     "data": {
      "text/plain": [
       "(15455, 1523)"
      ]
     },
     "execution_count": 12,
     "metadata": {},
     "output_type": "execute_result"
    }
   ],
   "source": [
    "r_df.shape"
   ]
  },
  {
   "cell_type": "code",
   "execution_count": 13,
   "metadata": {
    "collapsed": true
   },
   "outputs": [],
   "source": [
    "fill_zero_rf = r_df.fillna(0)"
   ]
  },
  {
   "cell_type": "code",
   "execution_count": 14,
   "metadata": {},
   "outputs": [
    {
     "data": {
      "text/plain": [
       "(15455, 1523)"
      ]
     },
     "execution_count": 14,
     "metadata": {},
     "output_type": "execute_result"
    }
   ],
   "source": [
    "fill_zero_rf.shape"
   ]
  },
  {
   "cell_type": "code",
   "execution_count": 15,
   "metadata": {},
   "outputs": [
    {
     "data": {
      "text/html": [
       "<div>\n",
       "<style>\n",
       "    .dataframe thead tr:only-child th {\n",
       "        text-align: right;\n",
       "    }\n",
       "\n",
       "    .dataframe thead th {\n",
       "        text-align: left;\n",
       "    }\n",
       "\n",
       "    .dataframe tbody tr th {\n",
       "        vertical-align: top;\n",
       "    }\n",
       "</style>\n",
       "<table border=\"1\" class=\"dataframe\">\n",
       "  <thead>\n",
       "    <tr style=\"text-align: right;\">\n",
       "      <th>business_id</th>\n",
       "      <th>--9e1ONYQuAa-CB_Rrw7Tw</th>\n",
       "      <th>-050d_XIor1NpCuWkbIVaQ</th>\n",
       "      <th>-1xuC540Nycht_iWFeJ-dw</th>\n",
       "      <th>-2ToCaDFpTNmmg3QFzxcWg</th>\n",
       "      <th>-3zffZUHoY8bQjGfPSoBKQ</th>\n",
       "      <th>-6h3K1hj0d4DRcZNUtHDuw</th>\n",
       "      <th>-6tvduBzjLI1ISfs3F_qTg</th>\n",
       "      <th>-7H-oXvCxJzuT42ky6Db0g</th>\n",
       "      <th>-95mbLJsa0CxXhpaNL4LvA</th>\n",
       "      <th>-9dmhyBvepc08KPEHlEM0w</th>\n",
       "      <th>...</th>\n",
       "      <th>zcScEL0WEdFkROcnz5379g</th>\n",
       "      <th>zdE82PiD6wquvjYLyhOJNA</th>\n",
       "      <th>zgQHtqX0gqMw1nlBZl2VnQ</th>\n",
       "      <th>zlpLjbwrKuNs8zROgB_qUQ</th>\n",
       "      <th>znWHLW1pt19HzW1VY6KfCA</th>\n",
       "      <th>zoODlH40edpJYLPLkHilNA</th>\n",
       "      <th>zpoZ6WyQUYff18-z4ZU1mA</th>\n",
       "      <th>zrDi4gEaUi64lAMfJU51dw</th>\n",
       "      <th>zrTGcb83AsfyVTMrsCa65A</th>\n",
       "      <th>zwNC-Ow4eIMan2__bS9-rg</th>\n",
       "    </tr>\n",
       "    <tr>\n",
       "      <th>user_id</th>\n",
       "      <th></th>\n",
       "      <th></th>\n",
       "      <th></th>\n",
       "      <th></th>\n",
       "      <th></th>\n",
       "      <th></th>\n",
       "      <th></th>\n",
       "      <th></th>\n",
       "      <th></th>\n",
       "      <th></th>\n",
       "      <th></th>\n",
       "      <th></th>\n",
       "      <th></th>\n",
       "      <th></th>\n",
       "      <th></th>\n",
       "      <th></th>\n",
       "      <th></th>\n",
       "      <th></th>\n",
       "      <th></th>\n",
       "      <th></th>\n",
       "      <th></th>\n",
       "    </tr>\n",
       "  </thead>\n",
       "  <tbody>\n",
       "    <tr>\n",
       "      <th>---1lKK3aKOuomHnwAkAow</th>\n",
       "      <td>0.0</td>\n",
       "      <td>0.0</td>\n",
       "      <td>0.0</td>\n",
       "      <td>0.0</td>\n",
       "      <td>0.0</td>\n",
       "      <td>0.0</td>\n",
       "      <td>0.0</td>\n",
       "      <td>0.0</td>\n",
       "      <td>0.0</td>\n",
       "      <td>0.0</td>\n",
       "      <td>...</td>\n",
       "      <td>0.0</td>\n",
       "      <td>0.0</td>\n",
       "      <td>0.0</td>\n",
       "      <td>0.0</td>\n",
       "      <td>0.0</td>\n",
       "      <td>0.0</td>\n",
       "      <td>0.0</td>\n",
       "      <td>0.0</td>\n",
       "      <td>0.0</td>\n",
       "      <td>0.0</td>\n",
       "    </tr>\n",
       "    <tr>\n",
       "      <th>--2vR0DIsmQ6WfcSzKWigw</th>\n",
       "      <td>0.0</td>\n",
       "      <td>0.0</td>\n",
       "      <td>0.0</td>\n",
       "      <td>0.0</td>\n",
       "      <td>0.0</td>\n",
       "      <td>0.0</td>\n",
       "      <td>0.0</td>\n",
       "      <td>0.0</td>\n",
       "      <td>0.0</td>\n",
       "      <td>0.0</td>\n",
       "      <td>...</td>\n",
       "      <td>0.0</td>\n",
       "      <td>0.0</td>\n",
       "      <td>0.0</td>\n",
       "      <td>0.0</td>\n",
       "      <td>0.0</td>\n",
       "      <td>0.0</td>\n",
       "      <td>0.0</td>\n",
       "      <td>0.0</td>\n",
       "      <td>0.0</td>\n",
       "      <td>0.0</td>\n",
       "    </tr>\n",
       "    <tr>\n",
       "      <th>--4q8EyqThydQm-eKZpS-A</th>\n",
       "      <td>0.0</td>\n",
       "      <td>0.0</td>\n",
       "      <td>0.0</td>\n",
       "      <td>0.0</td>\n",
       "      <td>0.0</td>\n",
       "      <td>0.0</td>\n",
       "      <td>0.0</td>\n",
       "      <td>0.0</td>\n",
       "      <td>0.0</td>\n",
       "      <td>0.0</td>\n",
       "      <td>...</td>\n",
       "      <td>0.0</td>\n",
       "      <td>0.0</td>\n",
       "      <td>0.0</td>\n",
       "      <td>0.0</td>\n",
       "      <td>0.0</td>\n",
       "      <td>0.0</td>\n",
       "      <td>0.0</td>\n",
       "      <td>0.0</td>\n",
       "      <td>0.0</td>\n",
       "      <td>0.0</td>\n",
       "    </tr>\n",
       "    <tr>\n",
       "      <th>--56mD0sm1eOogphi2FFLw</th>\n",
       "      <td>0.0</td>\n",
       "      <td>0.0</td>\n",
       "      <td>0.0</td>\n",
       "      <td>0.0</td>\n",
       "      <td>0.0</td>\n",
       "      <td>0.0</td>\n",
       "      <td>0.0</td>\n",
       "      <td>0.0</td>\n",
       "      <td>0.0</td>\n",
       "      <td>0.0</td>\n",
       "      <td>...</td>\n",
       "      <td>0.0</td>\n",
       "      <td>0.0</td>\n",
       "      <td>0.0</td>\n",
       "      <td>0.0</td>\n",
       "      <td>0.0</td>\n",
       "      <td>0.0</td>\n",
       "      <td>0.0</td>\n",
       "      <td>0.0</td>\n",
       "      <td>0.0</td>\n",
       "      <td>0.0</td>\n",
       "    </tr>\n",
       "    <tr>\n",
       "      <th>--CIuK7sUpaNzalLAlHJKA</th>\n",
       "      <td>0.0</td>\n",
       "      <td>0.0</td>\n",
       "      <td>0.0</td>\n",
       "      <td>0.0</td>\n",
       "      <td>0.0</td>\n",
       "      <td>0.0</td>\n",
       "      <td>0.0</td>\n",
       "      <td>0.0</td>\n",
       "      <td>0.0</td>\n",
       "      <td>0.0</td>\n",
       "      <td>...</td>\n",
       "      <td>0.0</td>\n",
       "      <td>0.0</td>\n",
       "      <td>0.0</td>\n",
       "      <td>0.0</td>\n",
       "      <td>0.0</td>\n",
       "      <td>0.0</td>\n",
       "      <td>0.0</td>\n",
       "      <td>0.0</td>\n",
       "      <td>0.0</td>\n",
       "      <td>0.0</td>\n",
       "    </tr>\n",
       "  </tbody>\n",
       "</table>\n",
       "<p>5 rows × 1523 columns</p>\n",
       "</div>"
      ],
      "text/plain": [
       "business_id             --9e1ONYQuAa-CB_Rrw7Tw  -050d_XIor1NpCuWkbIVaQ  \\\n",
       "user_id                                                                  \n",
       "---1lKK3aKOuomHnwAkAow                     0.0                     0.0   \n",
       "--2vR0DIsmQ6WfcSzKWigw                     0.0                     0.0   \n",
       "--4q8EyqThydQm-eKZpS-A                     0.0                     0.0   \n",
       "--56mD0sm1eOogphi2FFLw                     0.0                     0.0   \n",
       "--CIuK7sUpaNzalLAlHJKA                     0.0                     0.0   \n",
       "\n",
       "business_id             -1xuC540Nycht_iWFeJ-dw  -2ToCaDFpTNmmg3QFzxcWg  \\\n",
       "user_id                                                                  \n",
       "---1lKK3aKOuomHnwAkAow                     0.0                     0.0   \n",
       "--2vR0DIsmQ6WfcSzKWigw                     0.0                     0.0   \n",
       "--4q8EyqThydQm-eKZpS-A                     0.0                     0.0   \n",
       "--56mD0sm1eOogphi2FFLw                     0.0                     0.0   \n",
       "--CIuK7sUpaNzalLAlHJKA                     0.0                     0.0   \n",
       "\n",
       "business_id             -3zffZUHoY8bQjGfPSoBKQ  -6h3K1hj0d4DRcZNUtHDuw  \\\n",
       "user_id                                                                  \n",
       "---1lKK3aKOuomHnwAkAow                     0.0                     0.0   \n",
       "--2vR0DIsmQ6WfcSzKWigw                     0.0                     0.0   \n",
       "--4q8EyqThydQm-eKZpS-A                     0.0                     0.0   \n",
       "--56mD0sm1eOogphi2FFLw                     0.0                     0.0   \n",
       "--CIuK7sUpaNzalLAlHJKA                     0.0                     0.0   \n",
       "\n",
       "business_id             -6tvduBzjLI1ISfs3F_qTg  -7H-oXvCxJzuT42ky6Db0g  \\\n",
       "user_id                                                                  \n",
       "---1lKK3aKOuomHnwAkAow                     0.0                     0.0   \n",
       "--2vR0DIsmQ6WfcSzKWigw                     0.0                     0.0   \n",
       "--4q8EyqThydQm-eKZpS-A                     0.0                     0.0   \n",
       "--56mD0sm1eOogphi2FFLw                     0.0                     0.0   \n",
       "--CIuK7sUpaNzalLAlHJKA                     0.0                     0.0   \n",
       "\n",
       "business_id             -95mbLJsa0CxXhpaNL4LvA  -9dmhyBvepc08KPEHlEM0w  \\\n",
       "user_id                                                                  \n",
       "---1lKK3aKOuomHnwAkAow                     0.0                     0.0   \n",
       "--2vR0DIsmQ6WfcSzKWigw                     0.0                     0.0   \n",
       "--4q8EyqThydQm-eKZpS-A                     0.0                     0.0   \n",
       "--56mD0sm1eOogphi2FFLw                     0.0                     0.0   \n",
       "--CIuK7sUpaNzalLAlHJKA                     0.0                     0.0   \n",
       "\n",
       "business_id                      ...            zcScEL0WEdFkROcnz5379g  \\\n",
       "user_id                          ...                                     \n",
       "---1lKK3aKOuomHnwAkAow           ...                               0.0   \n",
       "--2vR0DIsmQ6WfcSzKWigw           ...                               0.0   \n",
       "--4q8EyqThydQm-eKZpS-A           ...                               0.0   \n",
       "--56mD0sm1eOogphi2FFLw           ...                               0.0   \n",
       "--CIuK7sUpaNzalLAlHJKA           ...                               0.0   \n",
       "\n",
       "business_id             zdE82PiD6wquvjYLyhOJNA  zgQHtqX0gqMw1nlBZl2VnQ  \\\n",
       "user_id                                                                  \n",
       "---1lKK3aKOuomHnwAkAow                     0.0                     0.0   \n",
       "--2vR0DIsmQ6WfcSzKWigw                     0.0                     0.0   \n",
       "--4q8EyqThydQm-eKZpS-A                     0.0                     0.0   \n",
       "--56mD0sm1eOogphi2FFLw                     0.0                     0.0   \n",
       "--CIuK7sUpaNzalLAlHJKA                     0.0                     0.0   \n",
       "\n",
       "business_id             zlpLjbwrKuNs8zROgB_qUQ  znWHLW1pt19HzW1VY6KfCA  \\\n",
       "user_id                                                                  \n",
       "---1lKK3aKOuomHnwAkAow                     0.0                     0.0   \n",
       "--2vR0DIsmQ6WfcSzKWigw                     0.0                     0.0   \n",
       "--4q8EyqThydQm-eKZpS-A                     0.0                     0.0   \n",
       "--56mD0sm1eOogphi2FFLw                     0.0                     0.0   \n",
       "--CIuK7sUpaNzalLAlHJKA                     0.0                     0.0   \n",
       "\n",
       "business_id             zoODlH40edpJYLPLkHilNA  zpoZ6WyQUYff18-z4ZU1mA  \\\n",
       "user_id                                                                  \n",
       "---1lKK3aKOuomHnwAkAow                     0.0                     0.0   \n",
       "--2vR0DIsmQ6WfcSzKWigw                     0.0                     0.0   \n",
       "--4q8EyqThydQm-eKZpS-A                     0.0                     0.0   \n",
       "--56mD0sm1eOogphi2FFLw                     0.0                     0.0   \n",
       "--CIuK7sUpaNzalLAlHJKA                     0.0                     0.0   \n",
       "\n",
       "business_id             zrDi4gEaUi64lAMfJU51dw  zrTGcb83AsfyVTMrsCa65A  \\\n",
       "user_id                                                                  \n",
       "---1lKK3aKOuomHnwAkAow                     0.0                     0.0   \n",
       "--2vR0DIsmQ6WfcSzKWigw                     0.0                     0.0   \n",
       "--4q8EyqThydQm-eKZpS-A                     0.0                     0.0   \n",
       "--56mD0sm1eOogphi2FFLw                     0.0                     0.0   \n",
       "--CIuK7sUpaNzalLAlHJKA                     0.0                     0.0   \n",
       "\n",
       "business_id             zwNC-Ow4eIMan2__bS9-rg  \n",
       "user_id                                         \n",
       "---1lKK3aKOuomHnwAkAow                     0.0  \n",
       "--2vR0DIsmQ6WfcSzKWigw                     0.0  \n",
       "--4q8EyqThydQm-eKZpS-A                     0.0  \n",
       "--56mD0sm1eOogphi2FFLw                     0.0  \n",
       "--CIuK7sUpaNzalLAlHJKA                     0.0  \n",
       "\n",
       "[5 rows x 1523 columns]"
      ]
     },
     "execution_count": 15,
     "metadata": {},
     "output_type": "execute_result"
    }
   ],
   "source": [
    "fill_zero_rf.head()"
   ]
  },
  {
   "cell_type": "markdown",
   "metadata": {},
   "source": [
    "# MODELS"
   ]
  },
  {
   "cell_type": "markdown",
   "metadata": {},
   "source": [
    "### Define RMSE error functions"
   ]
  },
  {
   "cell_type": "code",
   "execution_count": 16,
   "metadata": {
    "collapsed": true
   },
   "outputs": [],
   "source": [
    "def rmse(predictions, targets):\n",
    "    return np.sqrt(((predictions - targets) ** 2).mean())"
   ]
  },
  {
   "cell_type": "code",
   "execution_count": 17,
   "metadata": {
    "collapsed": true
   },
   "outputs": [],
   "source": [
    "def rmse2(model, x, y):\n",
    "    predict = model.predict(x)\n",
    "    mse2 = rmse(y, predict)\n",
    "    return mse2"
   ]
  },
  {
   "cell_type": "markdown",
   "metadata": {},
   "source": [
    "### Baseline Averages"
   ]
  },
  {
   "cell_type": "code",
   "execution_count": 18,
   "metadata": {},
   "outputs": [
    {
     "data": {
      "text/plain": [
       "3.8393172911341806"
      ]
     },
     "execution_count": 18,
     "metadata": {},
     "output_type": "execute_result"
    }
   ],
   "source": [
    "avg_mean = r_df.mean().mean()\n",
    "avg_mean"
   ]
  },
  {
   "cell_type": "code",
   "execution_count": 19,
   "metadata": {
    "collapsed": true
   },
   "outputs": [],
   "source": [
    "rows_length = r_df.shape[0]\n",
    "cols_length = r_df.shape[1]"
   ]
  },
  {
   "cell_type": "code",
   "execution_count": 20,
   "metadata": {
    "collapsed": true
   },
   "outputs": [],
   "source": [
    "cols_means = r_df.mean(axis = 0)\n",
    "rows_means = r_df.mean(axis = 1)"
   ]
  },
  {
   "cell_type": "code",
   "execution_count": 21,
   "metadata": {},
   "outputs": [
    {
     "data": {
      "text/plain": [
       "business_id\n",
       "--9e1ONYQuAa-CB_Rrw7Tw    4.060606\n",
       "-050d_XIor1NpCuWkbIVaQ    3.771429\n",
       "-1xuC540Nycht_iWFeJ-dw    4.333333\n",
       "-2ToCaDFpTNmmg3QFzxcWg    1.625000\n",
       "-3zffZUHoY8bQjGfPSoBKQ    4.027778\n",
       "dtype: float64"
      ]
     },
     "execution_count": 21,
     "metadata": {},
     "output_type": "execute_result"
    }
   ],
   "source": [
    "cols_means.head()"
   ]
  },
  {
   "cell_type": "code",
   "execution_count": 22,
   "metadata": {},
   "outputs": [
    {
     "data": {
      "text/plain": [
       "user_id\n",
       "---1lKK3aKOuomHnwAkAow    4.5\n",
       "--2vR0DIsmQ6WfcSzKWigw    4.5\n",
       "--4q8EyqThydQm-eKZpS-A    3.0\n",
       "--56mD0sm1eOogphi2FFLw    4.0\n",
       "--CIuK7sUpaNzalLAlHJKA    3.0\n",
       "dtype: float64"
      ]
     },
     "execution_count": 22,
     "metadata": {},
     "output_type": "execute_result"
    }
   ],
   "source": [
    "rows_means.head()"
   ]
  },
  {
   "cell_type": "code",
   "execution_count": 23,
   "metadata": {
    "collapsed": true
   },
   "outputs": [],
   "source": [
    "preds_array_avg = np.fromfunction(lambda i, j: rows_means[i] + cols_means[j] - avg_mean, (rows_length, cols_length), dtype=int)"
   ]
  },
  {
   "cell_type": "code",
   "execution_count": 24,
   "metadata": {},
   "outputs": [
    {
     "data": {
      "text/plain": [
       "array([[ 4.72128877,  4.43211128,  4.99401604, ...,  4.52734938,\n",
       "         4.31782557,  4.89145194],\n",
       "       [ 4.72128877,  4.43211128,  4.99401604, ...,  4.52734938,\n",
       "         4.31782557,  4.89145194],\n",
       "       [ 3.22128877,  2.93211128,  3.49401604, ...,  3.02734938,\n",
       "         2.81782557,  3.39145194],\n",
       "       ..., \n",
       "       [ 2.72128877,  2.43211128,  2.99401604, ...,  2.52734938,\n",
       "         2.31782557,  2.89145194],\n",
       "       [ 2.22128877,  1.93211128,  2.49401604, ...,  2.02734938,\n",
       "         1.81782557,  2.39145194],\n",
       "       [ 4.22128877,  3.93211128,  4.49401604, ...,  4.02734938,\n",
       "         3.81782557,  4.39145194]])"
      ]
     },
     "execution_count": 24,
     "metadata": {},
     "output_type": "execute_result"
    }
   ],
   "source": [
    "preds_array_avg"
   ]
  },
  {
   "cell_type": "code",
   "execution_count": 25,
   "metadata": {
    "collapsed": true
   },
   "outputs": [],
   "source": [
    "avg_preds_df = pd.DataFrame(preds_array_avg, columns = r_df.columns, index = r_df.index)"
   ]
  },
  {
   "cell_type": "code",
   "execution_count": 26,
   "metadata": {},
   "outputs": [
    {
     "data": {
      "text/html": [
       "<div>\n",
       "<style>\n",
       "    .dataframe thead tr:only-child th {\n",
       "        text-align: right;\n",
       "    }\n",
       "\n",
       "    .dataframe thead th {\n",
       "        text-align: left;\n",
       "    }\n",
       "\n",
       "    .dataframe tbody tr th {\n",
       "        vertical-align: top;\n",
       "    }\n",
       "</style>\n",
       "<table border=\"1\" class=\"dataframe\">\n",
       "  <thead>\n",
       "    <tr style=\"text-align: right;\">\n",
       "      <th>business_id</th>\n",
       "      <th>--9e1ONYQuAa-CB_Rrw7Tw</th>\n",
       "      <th>-050d_XIor1NpCuWkbIVaQ</th>\n",
       "      <th>-1xuC540Nycht_iWFeJ-dw</th>\n",
       "      <th>-2ToCaDFpTNmmg3QFzxcWg</th>\n",
       "      <th>-3zffZUHoY8bQjGfPSoBKQ</th>\n",
       "      <th>-6h3K1hj0d4DRcZNUtHDuw</th>\n",
       "      <th>-6tvduBzjLI1ISfs3F_qTg</th>\n",
       "      <th>-7H-oXvCxJzuT42ky6Db0g</th>\n",
       "      <th>-95mbLJsa0CxXhpaNL4LvA</th>\n",
       "      <th>-9dmhyBvepc08KPEHlEM0w</th>\n",
       "      <th>...</th>\n",
       "      <th>zcScEL0WEdFkROcnz5379g</th>\n",
       "      <th>zdE82PiD6wquvjYLyhOJNA</th>\n",
       "      <th>zgQHtqX0gqMw1nlBZl2VnQ</th>\n",
       "      <th>zlpLjbwrKuNs8zROgB_qUQ</th>\n",
       "      <th>znWHLW1pt19HzW1VY6KfCA</th>\n",
       "      <th>zoODlH40edpJYLPLkHilNA</th>\n",
       "      <th>zpoZ6WyQUYff18-z4ZU1mA</th>\n",
       "      <th>zrDi4gEaUi64lAMfJU51dw</th>\n",
       "      <th>zrTGcb83AsfyVTMrsCa65A</th>\n",
       "      <th>zwNC-Ow4eIMan2__bS9-rg</th>\n",
       "    </tr>\n",
       "    <tr>\n",
       "      <th>user_id</th>\n",
       "      <th></th>\n",
       "      <th></th>\n",
       "      <th></th>\n",
       "      <th></th>\n",
       "      <th></th>\n",
       "      <th></th>\n",
       "      <th></th>\n",
       "      <th></th>\n",
       "      <th></th>\n",
       "      <th></th>\n",
       "      <th></th>\n",
       "      <th></th>\n",
       "      <th></th>\n",
       "      <th></th>\n",
       "      <th></th>\n",
       "      <th></th>\n",
       "      <th></th>\n",
       "      <th></th>\n",
       "      <th></th>\n",
       "      <th></th>\n",
       "      <th></th>\n",
       "    </tr>\n",
       "  </thead>\n",
       "  <tbody>\n",
       "    <tr>\n",
       "      <th>---1lKK3aKOuomHnwAkAow</th>\n",
       "      <td>4.721289</td>\n",
       "      <td>4.432111</td>\n",
       "      <td>4.994016</td>\n",
       "      <td>2.285683</td>\n",
       "      <td>4.68846</td>\n",
       "      <td>3.771794</td>\n",
       "      <td>4.271794</td>\n",
       "      <td>4.478865</td>\n",
       "      <td>4.115228</td>\n",
       "      <td>4.535683</td>\n",
       "      <td>...</td>\n",
       "      <td>4.374968</td>\n",
       "      <td>4.732111</td>\n",
       "      <td>3.860683</td>\n",
       "      <td>3.73963</td>\n",
       "      <td>4.131271</td>\n",
       "      <td>5.182422</td>\n",
       "      <td>4.994016</td>\n",
       "      <td>4.527349</td>\n",
       "      <td>4.317826</td>\n",
       "      <td>4.891452</td>\n",
       "    </tr>\n",
       "    <tr>\n",
       "      <th>--2vR0DIsmQ6WfcSzKWigw</th>\n",
       "      <td>4.721289</td>\n",
       "      <td>4.432111</td>\n",
       "      <td>4.994016</td>\n",
       "      <td>2.285683</td>\n",
       "      <td>4.68846</td>\n",
       "      <td>3.771794</td>\n",
       "      <td>4.271794</td>\n",
       "      <td>4.478865</td>\n",
       "      <td>4.115228</td>\n",
       "      <td>4.535683</td>\n",
       "      <td>...</td>\n",
       "      <td>4.374968</td>\n",
       "      <td>4.732111</td>\n",
       "      <td>3.860683</td>\n",
       "      <td>3.73963</td>\n",
       "      <td>4.131271</td>\n",
       "      <td>5.182422</td>\n",
       "      <td>4.994016</td>\n",
       "      <td>4.527349</td>\n",
       "      <td>4.317826</td>\n",
       "      <td>4.891452</td>\n",
       "    </tr>\n",
       "    <tr>\n",
       "      <th>--4q8EyqThydQm-eKZpS-A</th>\n",
       "      <td>3.221289</td>\n",
       "      <td>2.932111</td>\n",
       "      <td>3.494016</td>\n",
       "      <td>0.785683</td>\n",
       "      <td>3.18846</td>\n",
       "      <td>2.271794</td>\n",
       "      <td>2.771794</td>\n",
       "      <td>2.978865</td>\n",
       "      <td>2.615228</td>\n",
       "      <td>3.035683</td>\n",
       "      <td>...</td>\n",
       "      <td>2.874968</td>\n",
       "      <td>3.232111</td>\n",
       "      <td>2.360683</td>\n",
       "      <td>2.23963</td>\n",
       "      <td>2.631271</td>\n",
       "      <td>3.682422</td>\n",
       "      <td>3.494016</td>\n",
       "      <td>3.027349</td>\n",
       "      <td>2.817826</td>\n",
       "      <td>3.391452</td>\n",
       "    </tr>\n",
       "    <tr>\n",
       "      <th>--56mD0sm1eOogphi2FFLw</th>\n",
       "      <td>4.221289</td>\n",
       "      <td>3.932111</td>\n",
       "      <td>4.494016</td>\n",
       "      <td>1.785683</td>\n",
       "      <td>4.18846</td>\n",
       "      <td>3.271794</td>\n",
       "      <td>3.771794</td>\n",
       "      <td>3.978865</td>\n",
       "      <td>3.615228</td>\n",
       "      <td>4.035683</td>\n",
       "      <td>...</td>\n",
       "      <td>3.874968</td>\n",
       "      <td>4.232111</td>\n",
       "      <td>3.360683</td>\n",
       "      <td>3.23963</td>\n",
       "      <td>3.631271</td>\n",
       "      <td>4.682422</td>\n",
       "      <td>4.494016</td>\n",
       "      <td>4.027349</td>\n",
       "      <td>3.817826</td>\n",
       "      <td>4.391452</td>\n",
       "    </tr>\n",
       "    <tr>\n",
       "      <th>--CIuK7sUpaNzalLAlHJKA</th>\n",
       "      <td>3.221289</td>\n",
       "      <td>2.932111</td>\n",
       "      <td>3.494016</td>\n",
       "      <td>0.785683</td>\n",
       "      <td>3.18846</td>\n",
       "      <td>2.271794</td>\n",
       "      <td>2.771794</td>\n",
       "      <td>2.978865</td>\n",
       "      <td>2.615228</td>\n",
       "      <td>3.035683</td>\n",
       "      <td>...</td>\n",
       "      <td>2.874968</td>\n",
       "      <td>3.232111</td>\n",
       "      <td>2.360683</td>\n",
       "      <td>2.23963</td>\n",
       "      <td>2.631271</td>\n",
       "      <td>3.682422</td>\n",
       "      <td>3.494016</td>\n",
       "      <td>3.027349</td>\n",
       "      <td>2.817826</td>\n",
       "      <td>3.391452</td>\n",
       "    </tr>\n",
       "  </tbody>\n",
       "</table>\n",
       "<p>5 rows × 1523 columns</p>\n",
       "</div>"
      ],
      "text/plain": [
       "business_id             --9e1ONYQuAa-CB_Rrw7Tw  -050d_XIor1NpCuWkbIVaQ  \\\n",
       "user_id                                                                  \n",
       "---1lKK3aKOuomHnwAkAow                4.721289                4.432111   \n",
       "--2vR0DIsmQ6WfcSzKWigw                4.721289                4.432111   \n",
       "--4q8EyqThydQm-eKZpS-A                3.221289                2.932111   \n",
       "--56mD0sm1eOogphi2FFLw                4.221289                3.932111   \n",
       "--CIuK7sUpaNzalLAlHJKA                3.221289                2.932111   \n",
       "\n",
       "business_id             -1xuC540Nycht_iWFeJ-dw  -2ToCaDFpTNmmg3QFzxcWg  \\\n",
       "user_id                                                                  \n",
       "---1lKK3aKOuomHnwAkAow                4.994016                2.285683   \n",
       "--2vR0DIsmQ6WfcSzKWigw                4.994016                2.285683   \n",
       "--4q8EyqThydQm-eKZpS-A                3.494016                0.785683   \n",
       "--56mD0sm1eOogphi2FFLw                4.494016                1.785683   \n",
       "--CIuK7sUpaNzalLAlHJKA                3.494016                0.785683   \n",
       "\n",
       "business_id             -3zffZUHoY8bQjGfPSoBKQ  -6h3K1hj0d4DRcZNUtHDuw  \\\n",
       "user_id                                                                  \n",
       "---1lKK3aKOuomHnwAkAow                 4.68846                3.771794   \n",
       "--2vR0DIsmQ6WfcSzKWigw                 4.68846                3.771794   \n",
       "--4q8EyqThydQm-eKZpS-A                 3.18846                2.271794   \n",
       "--56mD0sm1eOogphi2FFLw                 4.18846                3.271794   \n",
       "--CIuK7sUpaNzalLAlHJKA                 3.18846                2.271794   \n",
       "\n",
       "business_id             -6tvduBzjLI1ISfs3F_qTg  -7H-oXvCxJzuT42ky6Db0g  \\\n",
       "user_id                                                                  \n",
       "---1lKK3aKOuomHnwAkAow                4.271794                4.478865   \n",
       "--2vR0DIsmQ6WfcSzKWigw                4.271794                4.478865   \n",
       "--4q8EyqThydQm-eKZpS-A                2.771794                2.978865   \n",
       "--56mD0sm1eOogphi2FFLw                3.771794                3.978865   \n",
       "--CIuK7sUpaNzalLAlHJKA                2.771794                2.978865   \n",
       "\n",
       "business_id             -95mbLJsa0CxXhpaNL4LvA  -9dmhyBvepc08KPEHlEM0w  \\\n",
       "user_id                                                                  \n",
       "---1lKK3aKOuomHnwAkAow                4.115228                4.535683   \n",
       "--2vR0DIsmQ6WfcSzKWigw                4.115228                4.535683   \n",
       "--4q8EyqThydQm-eKZpS-A                2.615228                3.035683   \n",
       "--56mD0sm1eOogphi2FFLw                3.615228                4.035683   \n",
       "--CIuK7sUpaNzalLAlHJKA                2.615228                3.035683   \n",
       "\n",
       "business_id                      ...            zcScEL0WEdFkROcnz5379g  \\\n",
       "user_id                          ...                                     \n",
       "---1lKK3aKOuomHnwAkAow           ...                          4.374968   \n",
       "--2vR0DIsmQ6WfcSzKWigw           ...                          4.374968   \n",
       "--4q8EyqThydQm-eKZpS-A           ...                          2.874968   \n",
       "--56mD0sm1eOogphi2FFLw           ...                          3.874968   \n",
       "--CIuK7sUpaNzalLAlHJKA           ...                          2.874968   \n",
       "\n",
       "business_id             zdE82PiD6wquvjYLyhOJNA  zgQHtqX0gqMw1nlBZl2VnQ  \\\n",
       "user_id                                                                  \n",
       "---1lKK3aKOuomHnwAkAow                4.732111                3.860683   \n",
       "--2vR0DIsmQ6WfcSzKWigw                4.732111                3.860683   \n",
       "--4q8EyqThydQm-eKZpS-A                3.232111                2.360683   \n",
       "--56mD0sm1eOogphi2FFLw                4.232111                3.360683   \n",
       "--CIuK7sUpaNzalLAlHJKA                3.232111                2.360683   \n",
       "\n",
       "business_id             zlpLjbwrKuNs8zROgB_qUQ  znWHLW1pt19HzW1VY6KfCA  \\\n",
       "user_id                                                                  \n",
       "---1lKK3aKOuomHnwAkAow                 3.73963                4.131271   \n",
       "--2vR0DIsmQ6WfcSzKWigw                 3.73963                4.131271   \n",
       "--4q8EyqThydQm-eKZpS-A                 2.23963                2.631271   \n",
       "--56mD0sm1eOogphi2FFLw                 3.23963                3.631271   \n",
       "--CIuK7sUpaNzalLAlHJKA                 2.23963                2.631271   \n",
       "\n",
       "business_id             zoODlH40edpJYLPLkHilNA  zpoZ6WyQUYff18-z4ZU1mA  \\\n",
       "user_id                                                                  \n",
       "---1lKK3aKOuomHnwAkAow                5.182422                4.994016   \n",
       "--2vR0DIsmQ6WfcSzKWigw                5.182422                4.994016   \n",
       "--4q8EyqThydQm-eKZpS-A                3.682422                3.494016   \n",
       "--56mD0sm1eOogphi2FFLw                4.682422                4.494016   \n",
       "--CIuK7sUpaNzalLAlHJKA                3.682422                3.494016   \n",
       "\n",
       "business_id             zrDi4gEaUi64lAMfJU51dw  zrTGcb83AsfyVTMrsCa65A  \\\n",
       "user_id                                                                  \n",
       "---1lKK3aKOuomHnwAkAow                4.527349                4.317826   \n",
       "--2vR0DIsmQ6WfcSzKWigw                4.527349                4.317826   \n",
       "--4q8EyqThydQm-eKZpS-A                3.027349                2.817826   \n",
       "--56mD0sm1eOogphi2FFLw                4.027349                3.817826   \n",
       "--CIuK7sUpaNzalLAlHJKA                3.027349                2.817826   \n",
       "\n",
       "business_id             zwNC-Ow4eIMan2__bS9-rg  \n",
       "user_id                                         \n",
       "---1lKK3aKOuomHnwAkAow                4.891452  \n",
       "--2vR0DIsmQ6WfcSzKWigw                4.891452  \n",
       "--4q8EyqThydQm-eKZpS-A                3.391452  \n",
       "--56mD0sm1eOogphi2FFLw                4.391452  \n",
       "--CIuK7sUpaNzalLAlHJKA                3.391452  \n",
       "\n",
       "[5 rows x 1523 columns]"
      ]
     },
     "execution_count": 26,
     "metadata": {},
     "output_type": "execute_result"
    }
   ],
   "source": [
    "avg_preds_df.head()"
   ]
  },
  {
   "cell_type": "code",
   "execution_count": 28,
   "metadata": {},
   "outputs": [],
   "source": [
    "# avg_preds_df.to_json(\"avg_preds_df_0.15.json\")"
   ]
  },
  {
   "cell_type": "markdown",
   "metadata": {},
   "source": [
    "### Baseline Regression"
   ]
  },
  {
   "cell_type": "code",
   "execution_count": 29,
   "metadata": {
    "collapsed": true
   },
   "outputs": [],
   "source": [
    "categorical_columns = ['business_id', 'user_id']"
   ]
  },
  {
   "cell_type": "code",
   "execution_count": 30,
   "metadata": {},
   "outputs": [
    {
     "data": {
      "text/plain": [
       "1523"
      ]
     },
     "execution_count": 30,
     "metadata": {},
     "output_type": "execute_result"
    }
   ],
   "source": [
    "unique_business = df_review_smaller.business_id.nunique()\n",
    "unique_business"
   ]
  },
  {
   "cell_type": "code",
   "execution_count": 31,
   "metadata": {},
   "outputs": [
    {
     "data": {
      "text/plain": [
       "15455"
      ]
     },
     "execution_count": 31,
     "metadata": {},
     "output_type": "execute_result"
    }
   ],
   "source": [
    "unique_user = df_review_smaller.user_id.nunique()\n",
    "unique_user"
   ]
  },
  {
   "cell_type": "code",
   "execution_count": 32,
   "metadata": {
    "collapsed": true,
    "scrolled": false
   },
   "outputs": [],
   "source": [
    "df_review_dummies = pd.get_dummies(df_review_smaller, columns=categorical_columns, drop_first=False)"
   ]
  },
  {
   "cell_type": "code",
   "execution_count": 33,
   "metadata": {},
   "outputs": [
    {
     "data": {
      "text/plain": [
       "(38198, 16979)"
      ]
     },
     "execution_count": 33,
     "metadata": {},
     "output_type": "execute_result"
    }
   ],
   "source": [
    "df_review_dummies.shape"
   ]
  },
  {
   "cell_type": "code",
   "execution_count": 34,
   "metadata": {
    "collapsed": true
   },
   "outputs": [],
   "source": [
    "# df_review_dummies.to_json(\"df_review_dummies.json\")"
   ]
  },
  {
   "cell_type": "code",
   "execution_count": 35,
   "metadata": {
    "collapsed": true
   },
   "outputs": [],
   "source": [
    "# df_review_smaller = pd.read_json(\"df_review_smaller.json\")"
   ]
  },
  {
   "cell_type": "code",
   "execution_count": 36,
   "metadata": {
    "collapsed": true
   },
   "outputs": [],
   "source": [
    "np.random.seed(9001)\n",
    "msk = np.random.rand(len(df_review_dummies)) < 0.5\n",
    "\n",
    "# data_train = df_subset[msk]\n",
    "# data_test = df_subset[~msk]\n",
    "\n",
    "x_train = df_review_dummies[msk].drop(['stars'], axis=1) # DataFrame\n",
    "\n",
    "x_test = df_review_dummies[~msk].drop(['stars'], axis=1) # DataFrame\n",
    "\n",
    "y_train = df_review_dummies[msk].stars #series\n",
    "\n",
    "y_test = df_review_dummies[~msk].stars # series"
   ]
  },
  {
   "cell_type": "code",
   "execution_count": 37,
   "metadata": {},
   "outputs": [
    {
     "data": {
      "text/plain": [
       "Lasso(alpha=0.0001, copy_X=True, fit_intercept=True, max_iter=1000,\n",
       "   normalize=False, positive=False, precompute=False, random_state=None,\n",
       "   selection='cyclic', tol=0.0001, warm_start=False)"
      ]
     },
     "execution_count": 37,
     "metadata": {},
     "output_type": "execute_result"
    }
   ],
   "source": [
    "ols_lasso = Lasso(alpha=0.0001)\n",
    "ols_lasso.fit(x_train,y_train)"
   ]
  },
  {
   "cell_type": "code",
   "execution_count": 38,
   "metadata": {},
   "outputs": [
    {
     "data": {
      "text/plain": [
       "0.86079140172462165"
      ]
     },
     "execution_count": 38,
     "metadata": {},
     "output_type": "execute_result"
    }
   ],
   "source": [
    "rmse2(ols_lasso, x_train, y_train)"
   ]
  },
  {
   "cell_type": "code",
   "execution_count": 39,
   "metadata": {},
   "outputs": [
    {
     "data": {
      "text/plain": [
       "0.97445307396512448"
      ]
     },
     "execution_count": 39,
     "metadata": {},
     "output_type": "execute_result"
    }
   ],
   "source": [
    "rmse2(ols_lasso, x_test, y_test)"
   ]
  },
  {
   "cell_type": "code",
   "execution_count": 40,
   "metadata": {
    "collapsed": true
   },
   "outputs": [],
   "source": [
    "y_preds = ols_lasso.predict(x_train)"
   ]
  },
  {
   "cell_type": "code",
   "execution_count": 41,
   "metadata": {},
   "outputs": [
    {
     "data": {
      "text/plain": [
       "array([ 0.29526438,  0.        ,  0.08687282, ..., -0.31021108,\n",
       "       -0.        , -0.        ])"
      ]
     },
     "execution_count": 41,
     "metadata": {},
     "output_type": "execute_result"
    }
   ],
   "source": [
    "ols_lasso.coef_"
   ]
  },
  {
   "cell_type": "code",
   "execution_count": 42,
   "metadata": {
    "collapsed": true
   },
   "outputs": [],
   "source": [
    "busienss_coeffs = ols_lasso.coef_[:unique_business]"
   ]
  },
  {
   "cell_type": "code",
   "execution_count": 43,
   "metadata": {
    "collapsed": true
   },
   "outputs": [],
   "source": [
    "user_coeffs = ols_lasso.coef_[unique_business:]"
   ]
  },
  {
   "cell_type": "code",
   "execution_count": 44,
   "metadata": {},
   "outputs": [
    {
     "data": {
      "text/plain": [
       "((15455,), (1523,))"
      ]
     },
     "execution_count": 44,
     "metadata": {},
     "output_type": "execute_result"
    }
   ],
   "source": [
    "user_coeffs.shape, busienss_coeffs.shape"
   ]
  },
  {
   "cell_type": "code",
   "execution_count": 18,
   "metadata": {
    "collapsed": true
   },
   "outputs": [],
   "source": [
    "# train_residuals = y_train - y_preds"
   ]
  },
  {
   "cell_type": "code",
   "execution_count": 20,
   "metadata": {},
   "outputs": [
    {
     "data": {
      "text/plain": [
       "1000283   -0.850750\n",
       "100126    -0.429319\n",
       "1001936   -0.850750\n",
       "1002945   -0.850750\n",
       "1002957    0.149250\n",
       "Name: stars, dtype: float64"
      ]
     },
     "execution_count": 20,
     "metadata": {},
     "output_type": "execute_result"
    }
   ],
   "source": [
    "# train_residuals.head()"
   ]
  },
  {
   "cell_type": "code",
   "execution_count": 45,
   "metadata": {},
   "outputs": [],
   "source": [
    "preds_array_reg = np.fromfunction(lambda i, j: user_coeffs[i] + busienss_coeffs[j] + avg_mean, (rows_length, cols_length), dtype=int)"
   ]
  },
  {
   "cell_type": "code",
   "execution_count": 46,
   "metadata": {},
   "outputs": [
    {
     "data": {
      "text/plain": [
       "array([[ 4.13458167,  3.83931729,  3.92619012, ...,  3.83931729,\n",
       "         3.71403969,  3.83931729],\n",
       "       [ 4.13458167,  3.83931729,  3.92619012, ...,  3.83931729,\n",
       "         3.71403969,  3.83931729],\n",
       "       [ 4.13458167,  3.83931729,  3.92619012, ...,  3.83931729,\n",
       "         3.71403969,  3.83931729],\n",
       "       ..., \n",
       "       [ 3.82437059,  3.52910621,  3.61597903, ...,  3.52910621,\n",
       "         3.40382861,  3.52910621],\n",
       "       [ 4.13458167,  3.83931729,  3.92619012, ...,  3.83931729,\n",
       "         3.71403969,  3.83931729],\n",
       "       [ 4.13458167,  3.83931729,  3.92619012, ...,  3.83931729,\n",
       "         3.71403969,  3.83931729]])"
      ]
     },
     "execution_count": 46,
     "metadata": {},
     "output_type": "execute_result"
    }
   ],
   "source": [
    "preds_array_reg"
   ]
  },
  {
   "cell_type": "code",
   "execution_count": 47,
   "metadata": {
    "collapsed": true
   },
   "outputs": [],
   "source": [
    "preds_array_reg_df = pd.DataFrame(preds_array_reg, columns = r_df.columns, index = r_df.index)"
   ]
  },
  {
   "cell_type": "code",
   "execution_count": 48,
   "metadata": {},
   "outputs": [
    {
     "data": {
      "text/html": [
       "<div>\n",
       "<style>\n",
       "    .dataframe thead tr:only-child th {\n",
       "        text-align: right;\n",
       "    }\n",
       "\n",
       "    .dataframe thead th {\n",
       "        text-align: left;\n",
       "    }\n",
       "\n",
       "    .dataframe tbody tr th {\n",
       "        vertical-align: top;\n",
       "    }\n",
       "</style>\n",
       "<table border=\"1\" class=\"dataframe\">\n",
       "  <thead>\n",
       "    <tr style=\"text-align: right;\">\n",
       "      <th>business_id</th>\n",
       "      <th>--9e1ONYQuAa-CB_Rrw7Tw</th>\n",
       "      <th>-050d_XIor1NpCuWkbIVaQ</th>\n",
       "      <th>-1xuC540Nycht_iWFeJ-dw</th>\n",
       "      <th>-2ToCaDFpTNmmg3QFzxcWg</th>\n",
       "      <th>-3zffZUHoY8bQjGfPSoBKQ</th>\n",
       "      <th>-6h3K1hj0d4DRcZNUtHDuw</th>\n",
       "      <th>-6tvduBzjLI1ISfs3F_qTg</th>\n",
       "      <th>-7H-oXvCxJzuT42ky6Db0g</th>\n",
       "      <th>-95mbLJsa0CxXhpaNL4LvA</th>\n",
       "      <th>-9dmhyBvepc08KPEHlEM0w</th>\n",
       "      <th>...</th>\n",
       "      <th>zcScEL0WEdFkROcnz5379g</th>\n",
       "      <th>zdE82PiD6wquvjYLyhOJNA</th>\n",
       "      <th>zgQHtqX0gqMw1nlBZl2VnQ</th>\n",
       "      <th>zlpLjbwrKuNs8zROgB_qUQ</th>\n",
       "      <th>znWHLW1pt19HzW1VY6KfCA</th>\n",
       "      <th>zoODlH40edpJYLPLkHilNA</th>\n",
       "      <th>zpoZ6WyQUYff18-z4ZU1mA</th>\n",
       "      <th>zrDi4gEaUi64lAMfJU51dw</th>\n",
       "      <th>zrTGcb83AsfyVTMrsCa65A</th>\n",
       "      <th>zwNC-Ow4eIMan2__bS9-rg</th>\n",
       "    </tr>\n",
       "    <tr>\n",
       "      <th>user_id</th>\n",
       "      <th></th>\n",
       "      <th></th>\n",
       "      <th></th>\n",
       "      <th></th>\n",
       "      <th></th>\n",
       "      <th></th>\n",
       "      <th></th>\n",
       "      <th></th>\n",
       "      <th></th>\n",
       "      <th></th>\n",
       "      <th></th>\n",
       "      <th></th>\n",
       "      <th></th>\n",
       "      <th></th>\n",
       "      <th></th>\n",
       "      <th></th>\n",
       "      <th></th>\n",
       "      <th></th>\n",
       "      <th></th>\n",
       "      <th></th>\n",
       "      <th></th>\n",
       "    </tr>\n",
       "  </thead>\n",
       "  <tbody>\n",
       "    <tr>\n",
       "      <th>---1lKK3aKOuomHnwAkAow</th>\n",
       "      <td>4.134582</td>\n",
       "      <td>3.839317</td>\n",
       "      <td>3.92619</td>\n",
       "      <td>1.540696</td>\n",
       "      <td>3.928585</td>\n",
       "      <td>2.874029</td>\n",
       "      <td>3.839317</td>\n",
       "      <td>3.839317</td>\n",
       "      <td>3.839317</td>\n",
       "      <td>3.760319</td>\n",
       "      <td>...</td>\n",
       "      <td>3.574515</td>\n",
       "      <td>3.904549</td>\n",
       "      <td>3.254626</td>\n",
       "      <td>2.938128</td>\n",
       "      <td>3.766569</td>\n",
       "      <td>3.977102</td>\n",
       "      <td>3.925678</td>\n",
       "      <td>3.839317</td>\n",
       "      <td>3.71404</td>\n",
       "      <td>3.839317</td>\n",
       "    </tr>\n",
       "    <tr>\n",
       "      <th>--2vR0DIsmQ6WfcSzKWigw</th>\n",
       "      <td>4.134582</td>\n",
       "      <td>3.839317</td>\n",
       "      <td>3.92619</td>\n",
       "      <td>1.540696</td>\n",
       "      <td>3.928585</td>\n",
       "      <td>2.874029</td>\n",
       "      <td>3.839317</td>\n",
       "      <td>3.839317</td>\n",
       "      <td>3.839317</td>\n",
       "      <td>3.760319</td>\n",
       "      <td>...</td>\n",
       "      <td>3.574515</td>\n",
       "      <td>3.904549</td>\n",
       "      <td>3.254626</td>\n",
       "      <td>2.938128</td>\n",
       "      <td>3.766569</td>\n",
       "      <td>3.977102</td>\n",
       "      <td>3.925678</td>\n",
       "      <td>3.839317</td>\n",
       "      <td>3.71404</td>\n",
       "      <td>3.839317</td>\n",
       "    </tr>\n",
       "    <tr>\n",
       "      <th>--4q8EyqThydQm-eKZpS-A</th>\n",
       "      <td>4.134582</td>\n",
       "      <td>3.839317</td>\n",
       "      <td>3.92619</td>\n",
       "      <td>1.540696</td>\n",
       "      <td>3.928585</td>\n",
       "      <td>2.874029</td>\n",
       "      <td>3.839317</td>\n",
       "      <td>3.839317</td>\n",
       "      <td>3.839317</td>\n",
       "      <td>3.760319</td>\n",
       "      <td>...</td>\n",
       "      <td>3.574515</td>\n",
       "      <td>3.904549</td>\n",
       "      <td>3.254626</td>\n",
       "      <td>2.938128</td>\n",
       "      <td>3.766569</td>\n",
       "      <td>3.977102</td>\n",
       "      <td>3.925678</td>\n",
       "      <td>3.839317</td>\n",
       "      <td>3.71404</td>\n",
       "      <td>3.839317</td>\n",
       "    </tr>\n",
       "    <tr>\n",
       "      <th>--56mD0sm1eOogphi2FFLw</th>\n",
       "      <td>4.134582</td>\n",
       "      <td>3.839317</td>\n",
       "      <td>3.92619</td>\n",
       "      <td>1.540696</td>\n",
       "      <td>3.928585</td>\n",
       "      <td>2.874029</td>\n",
       "      <td>3.839317</td>\n",
       "      <td>3.839317</td>\n",
       "      <td>3.839317</td>\n",
       "      <td>3.760319</td>\n",
       "      <td>...</td>\n",
       "      <td>3.574515</td>\n",
       "      <td>3.904549</td>\n",
       "      <td>3.254626</td>\n",
       "      <td>2.938128</td>\n",
       "      <td>3.766569</td>\n",
       "      <td>3.977102</td>\n",
       "      <td>3.925678</td>\n",
       "      <td>3.839317</td>\n",
       "      <td>3.71404</td>\n",
       "      <td>3.839317</td>\n",
       "    </tr>\n",
       "    <tr>\n",
       "      <th>--CIuK7sUpaNzalLAlHJKA</th>\n",
       "      <td>4.134582</td>\n",
       "      <td>3.839317</td>\n",
       "      <td>3.92619</td>\n",
       "      <td>1.540696</td>\n",
       "      <td>3.928585</td>\n",
       "      <td>2.874029</td>\n",
       "      <td>3.839317</td>\n",
       "      <td>3.839317</td>\n",
       "      <td>3.839317</td>\n",
       "      <td>3.760319</td>\n",
       "      <td>...</td>\n",
       "      <td>3.574515</td>\n",
       "      <td>3.904549</td>\n",
       "      <td>3.254626</td>\n",
       "      <td>2.938128</td>\n",
       "      <td>3.766569</td>\n",
       "      <td>3.977102</td>\n",
       "      <td>3.925678</td>\n",
       "      <td>3.839317</td>\n",
       "      <td>3.71404</td>\n",
       "      <td>3.839317</td>\n",
       "    </tr>\n",
       "  </tbody>\n",
       "</table>\n",
       "<p>5 rows × 1523 columns</p>\n",
       "</div>"
      ],
      "text/plain": [
       "business_id             --9e1ONYQuAa-CB_Rrw7Tw  -050d_XIor1NpCuWkbIVaQ  \\\n",
       "user_id                                                                  \n",
       "---1lKK3aKOuomHnwAkAow                4.134582                3.839317   \n",
       "--2vR0DIsmQ6WfcSzKWigw                4.134582                3.839317   \n",
       "--4q8EyqThydQm-eKZpS-A                4.134582                3.839317   \n",
       "--56mD0sm1eOogphi2FFLw                4.134582                3.839317   \n",
       "--CIuK7sUpaNzalLAlHJKA                4.134582                3.839317   \n",
       "\n",
       "business_id             -1xuC540Nycht_iWFeJ-dw  -2ToCaDFpTNmmg3QFzxcWg  \\\n",
       "user_id                                                                  \n",
       "---1lKK3aKOuomHnwAkAow                 3.92619                1.540696   \n",
       "--2vR0DIsmQ6WfcSzKWigw                 3.92619                1.540696   \n",
       "--4q8EyqThydQm-eKZpS-A                 3.92619                1.540696   \n",
       "--56mD0sm1eOogphi2FFLw                 3.92619                1.540696   \n",
       "--CIuK7sUpaNzalLAlHJKA                 3.92619                1.540696   \n",
       "\n",
       "business_id             -3zffZUHoY8bQjGfPSoBKQ  -6h3K1hj0d4DRcZNUtHDuw  \\\n",
       "user_id                                                                  \n",
       "---1lKK3aKOuomHnwAkAow                3.928585                2.874029   \n",
       "--2vR0DIsmQ6WfcSzKWigw                3.928585                2.874029   \n",
       "--4q8EyqThydQm-eKZpS-A                3.928585                2.874029   \n",
       "--56mD0sm1eOogphi2FFLw                3.928585                2.874029   \n",
       "--CIuK7sUpaNzalLAlHJKA                3.928585                2.874029   \n",
       "\n",
       "business_id             -6tvduBzjLI1ISfs3F_qTg  -7H-oXvCxJzuT42ky6Db0g  \\\n",
       "user_id                                                                  \n",
       "---1lKK3aKOuomHnwAkAow                3.839317                3.839317   \n",
       "--2vR0DIsmQ6WfcSzKWigw                3.839317                3.839317   \n",
       "--4q8EyqThydQm-eKZpS-A                3.839317                3.839317   \n",
       "--56mD0sm1eOogphi2FFLw                3.839317                3.839317   \n",
       "--CIuK7sUpaNzalLAlHJKA                3.839317                3.839317   \n",
       "\n",
       "business_id             -95mbLJsa0CxXhpaNL4LvA  -9dmhyBvepc08KPEHlEM0w  \\\n",
       "user_id                                                                  \n",
       "---1lKK3aKOuomHnwAkAow                3.839317                3.760319   \n",
       "--2vR0DIsmQ6WfcSzKWigw                3.839317                3.760319   \n",
       "--4q8EyqThydQm-eKZpS-A                3.839317                3.760319   \n",
       "--56mD0sm1eOogphi2FFLw                3.839317                3.760319   \n",
       "--CIuK7sUpaNzalLAlHJKA                3.839317                3.760319   \n",
       "\n",
       "business_id                      ...            zcScEL0WEdFkROcnz5379g  \\\n",
       "user_id                          ...                                     \n",
       "---1lKK3aKOuomHnwAkAow           ...                          3.574515   \n",
       "--2vR0DIsmQ6WfcSzKWigw           ...                          3.574515   \n",
       "--4q8EyqThydQm-eKZpS-A           ...                          3.574515   \n",
       "--56mD0sm1eOogphi2FFLw           ...                          3.574515   \n",
       "--CIuK7sUpaNzalLAlHJKA           ...                          3.574515   \n",
       "\n",
       "business_id             zdE82PiD6wquvjYLyhOJNA  zgQHtqX0gqMw1nlBZl2VnQ  \\\n",
       "user_id                                                                  \n",
       "---1lKK3aKOuomHnwAkAow                3.904549                3.254626   \n",
       "--2vR0DIsmQ6WfcSzKWigw                3.904549                3.254626   \n",
       "--4q8EyqThydQm-eKZpS-A                3.904549                3.254626   \n",
       "--56mD0sm1eOogphi2FFLw                3.904549                3.254626   \n",
       "--CIuK7sUpaNzalLAlHJKA                3.904549                3.254626   \n",
       "\n",
       "business_id             zlpLjbwrKuNs8zROgB_qUQ  znWHLW1pt19HzW1VY6KfCA  \\\n",
       "user_id                                                                  \n",
       "---1lKK3aKOuomHnwAkAow                2.938128                3.766569   \n",
       "--2vR0DIsmQ6WfcSzKWigw                2.938128                3.766569   \n",
       "--4q8EyqThydQm-eKZpS-A                2.938128                3.766569   \n",
       "--56mD0sm1eOogphi2FFLw                2.938128                3.766569   \n",
       "--CIuK7sUpaNzalLAlHJKA                2.938128                3.766569   \n",
       "\n",
       "business_id             zoODlH40edpJYLPLkHilNA  zpoZ6WyQUYff18-z4ZU1mA  \\\n",
       "user_id                                                                  \n",
       "---1lKK3aKOuomHnwAkAow                3.977102                3.925678   \n",
       "--2vR0DIsmQ6WfcSzKWigw                3.977102                3.925678   \n",
       "--4q8EyqThydQm-eKZpS-A                3.977102                3.925678   \n",
       "--56mD0sm1eOogphi2FFLw                3.977102                3.925678   \n",
       "--CIuK7sUpaNzalLAlHJKA                3.977102                3.925678   \n",
       "\n",
       "business_id             zrDi4gEaUi64lAMfJU51dw  zrTGcb83AsfyVTMrsCa65A  \\\n",
       "user_id                                                                  \n",
       "---1lKK3aKOuomHnwAkAow                3.839317                 3.71404   \n",
       "--2vR0DIsmQ6WfcSzKWigw                3.839317                 3.71404   \n",
       "--4q8EyqThydQm-eKZpS-A                3.839317                 3.71404   \n",
       "--56mD0sm1eOogphi2FFLw                3.839317                 3.71404   \n",
       "--CIuK7sUpaNzalLAlHJKA                3.839317                 3.71404   \n",
       "\n",
       "business_id             zwNC-Ow4eIMan2__bS9-rg  \n",
       "user_id                                         \n",
       "---1lKK3aKOuomHnwAkAow                3.839317  \n",
       "--2vR0DIsmQ6WfcSzKWigw                3.839317  \n",
       "--4q8EyqThydQm-eKZpS-A                3.839317  \n",
       "--56mD0sm1eOogphi2FFLw                3.839317  \n",
       "--CIuK7sUpaNzalLAlHJKA                3.839317  \n",
       "\n",
       "[5 rows x 1523 columns]"
      ]
     },
     "execution_count": 48,
     "metadata": {},
     "output_type": "execute_result"
    }
   ],
   "source": [
    "preds_array_reg_df.head()"
   ]
  },
  {
   "cell_type": "code",
   "execution_count": 53,
   "metadata": {},
   "outputs": [],
   "source": [
    "resids_array = np.subtract(r_df, preds_array_reg)"
   ]
  },
  {
   "cell_type": "code",
   "execution_count": 58,
   "metadata": {
    "collapsed": true
   },
   "outputs": [],
   "source": [
    "resids_df = resids_array.fillna(0)"
   ]
  },
  {
   "cell_type": "code",
   "execution_count": 59,
   "metadata": {},
   "outputs": [
    {
     "data": {
      "text/html": [
       "<div>\n",
       "<style>\n",
       "    .dataframe thead tr:only-child th {\n",
       "        text-align: right;\n",
       "    }\n",
       "\n",
       "    .dataframe thead th {\n",
       "        text-align: left;\n",
       "    }\n",
       "\n",
       "    .dataframe tbody tr th {\n",
       "        vertical-align: top;\n",
       "    }\n",
       "</style>\n",
       "<table border=\"1\" class=\"dataframe\">\n",
       "  <thead>\n",
       "    <tr style=\"text-align: right;\">\n",
       "      <th>business_id</th>\n",
       "      <th>--9e1ONYQuAa-CB_Rrw7Tw</th>\n",
       "      <th>-050d_XIor1NpCuWkbIVaQ</th>\n",
       "      <th>-1xuC540Nycht_iWFeJ-dw</th>\n",
       "      <th>-2ToCaDFpTNmmg3QFzxcWg</th>\n",
       "      <th>-3zffZUHoY8bQjGfPSoBKQ</th>\n",
       "      <th>-6h3K1hj0d4DRcZNUtHDuw</th>\n",
       "      <th>-6tvduBzjLI1ISfs3F_qTg</th>\n",
       "      <th>-7H-oXvCxJzuT42ky6Db0g</th>\n",
       "      <th>-95mbLJsa0CxXhpaNL4LvA</th>\n",
       "      <th>-9dmhyBvepc08KPEHlEM0w</th>\n",
       "      <th>...</th>\n",
       "      <th>zcScEL0WEdFkROcnz5379g</th>\n",
       "      <th>zdE82PiD6wquvjYLyhOJNA</th>\n",
       "      <th>zgQHtqX0gqMw1nlBZl2VnQ</th>\n",
       "      <th>zlpLjbwrKuNs8zROgB_qUQ</th>\n",
       "      <th>znWHLW1pt19HzW1VY6KfCA</th>\n",
       "      <th>zoODlH40edpJYLPLkHilNA</th>\n",
       "      <th>zpoZ6WyQUYff18-z4ZU1mA</th>\n",
       "      <th>zrDi4gEaUi64lAMfJU51dw</th>\n",
       "      <th>zrTGcb83AsfyVTMrsCa65A</th>\n",
       "      <th>zwNC-Ow4eIMan2__bS9-rg</th>\n",
       "    </tr>\n",
       "    <tr>\n",
       "      <th>user_id</th>\n",
       "      <th></th>\n",
       "      <th></th>\n",
       "      <th></th>\n",
       "      <th></th>\n",
       "      <th></th>\n",
       "      <th></th>\n",
       "      <th></th>\n",
       "      <th></th>\n",
       "      <th></th>\n",
       "      <th></th>\n",
       "      <th></th>\n",
       "      <th></th>\n",
       "      <th></th>\n",
       "      <th></th>\n",
       "      <th></th>\n",
       "      <th></th>\n",
       "      <th></th>\n",
       "      <th></th>\n",
       "      <th></th>\n",
       "      <th></th>\n",
       "      <th></th>\n",
       "    </tr>\n",
       "  </thead>\n",
       "  <tbody>\n",
       "    <tr>\n",
       "      <th>---1lKK3aKOuomHnwAkAow</th>\n",
       "      <td>0.0</td>\n",
       "      <td>0.0</td>\n",
       "      <td>0.0</td>\n",
       "      <td>0.0</td>\n",
       "      <td>0.0</td>\n",
       "      <td>0.0</td>\n",
       "      <td>0.0</td>\n",
       "      <td>0.0</td>\n",
       "      <td>0.0</td>\n",
       "      <td>0.0</td>\n",
       "      <td>...</td>\n",
       "      <td>0.0</td>\n",
       "      <td>0.0</td>\n",
       "      <td>0.0</td>\n",
       "      <td>0.0</td>\n",
       "      <td>0.0</td>\n",
       "      <td>0.0</td>\n",
       "      <td>0.0</td>\n",
       "      <td>0.0</td>\n",
       "      <td>0.0</td>\n",
       "      <td>0.0</td>\n",
       "    </tr>\n",
       "    <tr>\n",
       "      <th>--2vR0DIsmQ6WfcSzKWigw</th>\n",
       "      <td>0.0</td>\n",
       "      <td>0.0</td>\n",
       "      <td>0.0</td>\n",
       "      <td>0.0</td>\n",
       "      <td>0.0</td>\n",
       "      <td>0.0</td>\n",
       "      <td>0.0</td>\n",
       "      <td>0.0</td>\n",
       "      <td>0.0</td>\n",
       "      <td>0.0</td>\n",
       "      <td>...</td>\n",
       "      <td>0.0</td>\n",
       "      <td>0.0</td>\n",
       "      <td>0.0</td>\n",
       "      <td>0.0</td>\n",
       "      <td>0.0</td>\n",
       "      <td>0.0</td>\n",
       "      <td>0.0</td>\n",
       "      <td>0.0</td>\n",
       "      <td>0.0</td>\n",
       "      <td>0.0</td>\n",
       "    </tr>\n",
       "    <tr>\n",
       "      <th>--4q8EyqThydQm-eKZpS-A</th>\n",
       "      <td>0.0</td>\n",
       "      <td>0.0</td>\n",
       "      <td>0.0</td>\n",
       "      <td>0.0</td>\n",
       "      <td>0.0</td>\n",
       "      <td>0.0</td>\n",
       "      <td>0.0</td>\n",
       "      <td>0.0</td>\n",
       "      <td>0.0</td>\n",
       "      <td>0.0</td>\n",
       "      <td>...</td>\n",
       "      <td>0.0</td>\n",
       "      <td>0.0</td>\n",
       "      <td>0.0</td>\n",
       "      <td>0.0</td>\n",
       "      <td>0.0</td>\n",
       "      <td>0.0</td>\n",
       "      <td>0.0</td>\n",
       "      <td>0.0</td>\n",
       "      <td>0.0</td>\n",
       "      <td>0.0</td>\n",
       "    </tr>\n",
       "    <tr>\n",
       "      <th>--56mD0sm1eOogphi2FFLw</th>\n",
       "      <td>0.0</td>\n",
       "      <td>0.0</td>\n",
       "      <td>0.0</td>\n",
       "      <td>0.0</td>\n",
       "      <td>0.0</td>\n",
       "      <td>0.0</td>\n",
       "      <td>0.0</td>\n",
       "      <td>0.0</td>\n",
       "      <td>0.0</td>\n",
       "      <td>0.0</td>\n",
       "      <td>...</td>\n",
       "      <td>0.0</td>\n",
       "      <td>0.0</td>\n",
       "      <td>0.0</td>\n",
       "      <td>0.0</td>\n",
       "      <td>0.0</td>\n",
       "      <td>0.0</td>\n",
       "      <td>0.0</td>\n",
       "      <td>0.0</td>\n",
       "      <td>0.0</td>\n",
       "      <td>0.0</td>\n",
       "    </tr>\n",
       "    <tr>\n",
       "      <th>--CIuK7sUpaNzalLAlHJKA</th>\n",
       "      <td>0.0</td>\n",
       "      <td>0.0</td>\n",
       "      <td>0.0</td>\n",
       "      <td>0.0</td>\n",
       "      <td>0.0</td>\n",
       "      <td>0.0</td>\n",
       "      <td>0.0</td>\n",
       "      <td>0.0</td>\n",
       "      <td>0.0</td>\n",
       "      <td>0.0</td>\n",
       "      <td>...</td>\n",
       "      <td>0.0</td>\n",
       "      <td>0.0</td>\n",
       "      <td>0.0</td>\n",
       "      <td>0.0</td>\n",
       "      <td>0.0</td>\n",
       "      <td>0.0</td>\n",
       "      <td>0.0</td>\n",
       "      <td>0.0</td>\n",
       "      <td>0.0</td>\n",
       "      <td>0.0</td>\n",
       "    </tr>\n",
       "  </tbody>\n",
       "</table>\n",
       "<p>5 rows × 1523 columns</p>\n",
       "</div>"
      ],
      "text/plain": [
       "business_id             --9e1ONYQuAa-CB_Rrw7Tw  -050d_XIor1NpCuWkbIVaQ  \\\n",
       "user_id                                                                  \n",
       "---1lKK3aKOuomHnwAkAow                     0.0                     0.0   \n",
       "--2vR0DIsmQ6WfcSzKWigw                     0.0                     0.0   \n",
       "--4q8EyqThydQm-eKZpS-A                     0.0                     0.0   \n",
       "--56mD0sm1eOogphi2FFLw                     0.0                     0.0   \n",
       "--CIuK7sUpaNzalLAlHJKA                     0.0                     0.0   \n",
       "\n",
       "business_id             -1xuC540Nycht_iWFeJ-dw  -2ToCaDFpTNmmg3QFzxcWg  \\\n",
       "user_id                                                                  \n",
       "---1lKK3aKOuomHnwAkAow                     0.0                     0.0   \n",
       "--2vR0DIsmQ6WfcSzKWigw                     0.0                     0.0   \n",
       "--4q8EyqThydQm-eKZpS-A                     0.0                     0.0   \n",
       "--56mD0sm1eOogphi2FFLw                     0.0                     0.0   \n",
       "--CIuK7sUpaNzalLAlHJKA                     0.0                     0.0   \n",
       "\n",
       "business_id             -3zffZUHoY8bQjGfPSoBKQ  -6h3K1hj0d4DRcZNUtHDuw  \\\n",
       "user_id                                                                  \n",
       "---1lKK3aKOuomHnwAkAow                     0.0                     0.0   \n",
       "--2vR0DIsmQ6WfcSzKWigw                     0.0                     0.0   \n",
       "--4q8EyqThydQm-eKZpS-A                     0.0                     0.0   \n",
       "--56mD0sm1eOogphi2FFLw                     0.0                     0.0   \n",
       "--CIuK7sUpaNzalLAlHJKA                     0.0                     0.0   \n",
       "\n",
       "business_id             -6tvduBzjLI1ISfs3F_qTg  -7H-oXvCxJzuT42ky6Db0g  \\\n",
       "user_id                                                                  \n",
       "---1lKK3aKOuomHnwAkAow                     0.0                     0.0   \n",
       "--2vR0DIsmQ6WfcSzKWigw                     0.0                     0.0   \n",
       "--4q8EyqThydQm-eKZpS-A                     0.0                     0.0   \n",
       "--56mD0sm1eOogphi2FFLw                     0.0                     0.0   \n",
       "--CIuK7sUpaNzalLAlHJKA                     0.0                     0.0   \n",
       "\n",
       "business_id             -95mbLJsa0CxXhpaNL4LvA  -9dmhyBvepc08KPEHlEM0w  \\\n",
       "user_id                                                                  \n",
       "---1lKK3aKOuomHnwAkAow                     0.0                     0.0   \n",
       "--2vR0DIsmQ6WfcSzKWigw                     0.0                     0.0   \n",
       "--4q8EyqThydQm-eKZpS-A                     0.0                     0.0   \n",
       "--56mD0sm1eOogphi2FFLw                     0.0                     0.0   \n",
       "--CIuK7sUpaNzalLAlHJKA                     0.0                     0.0   \n",
       "\n",
       "business_id                      ...            zcScEL0WEdFkROcnz5379g  \\\n",
       "user_id                          ...                                     \n",
       "---1lKK3aKOuomHnwAkAow           ...                               0.0   \n",
       "--2vR0DIsmQ6WfcSzKWigw           ...                               0.0   \n",
       "--4q8EyqThydQm-eKZpS-A           ...                               0.0   \n",
       "--56mD0sm1eOogphi2FFLw           ...                               0.0   \n",
       "--CIuK7sUpaNzalLAlHJKA           ...                               0.0   \n",
       "\n",
       "business_id             zdE82PiD6wquvjYLyhOJNA  zgQHtqX0gqMw1nlBZl2VnQ  \\\n",
       "user_id                                                                  \n",
       "---1lKK3aKOuomHnwAkAow                     0.0                     0.0   \n",
       "--2vR0DIsmQ6WfcSzKWigw                     0.0                     0.0   \n",
       "--4q8EyqThydQm-eKZpS-A                     0.0                     0.0   \n",
       "--56mD0sm1eOogphi2FFLw                     0.0                     0.0   \n",
       "--CIuK7sUpaNzalLAlHJKA                     0.0                     0.0   \n",
       "\n",
       "business_id             zlpLjbwrKuNs8zROgB_qUQ  znWHLW1pt19HzW1VY6KfCA  \\\n",
       "user_id                                                                  \n",
       "---1lKK3aKOuomHnwAkAow                     0.0                     0.0   \n",
       "--2vR0DIsmQ6WfcSzKWigw                     0.0                     0.0   \n",
       "--4q8EyqThydQm-eKZpS-A                     0.0                     0.0   \n",
       "--56mD0sm1eOogphi2FFLw                     0.0                     0.0   \n",
       "--CIuK7sUpaNzalLAlHJKA                     0.0                     0.0   \n",
       "\n",
       "business_id             zoODlH40edpJYLPLkHilNA  zpoZ6WyQUYff18-z4ZU1mA  \\\n",
       "user_id                                                                  \n",
       "---1lKK3aKOuomHnwAkAow                     0.0                     0.0   \n",
       "--2vR0DIsmQ6WfcSzKWigw                     0.0                     0.0   \n",
       "--4q8EyqThydQm-eKZpS-A                     0.0                     0.0   \n",
       "--56mD0sm1eOogphi2FFLw                     0.0                     0.0   \n",
       "--CIuK7sUpaNzalLAlHJKA                     0.0                     0.0   \n",
       "\n",
       "business_id             zrDi4gEaUi64lAMfJU51dw  zrTGcb83AsfyVTMrsCa65A  \\\n",
       "user_id                                                                  \n",
       "---1lKK3aKOuomHnwAkAow                     0.0                     0.0   \n",
       "--2vR0DIsmQ6WfcSzKWigw                     0.0                     0.0   \n",
       "--4q8EyqThydQm-eKZpS-A                     0.0                     0.0   \n",
       "--56mD0sm1eOogphi2FFLw                     0.0                     0.0   \n",
       "--CIuK7sUpaNzalLAlHJKA                     0.0                     0.0   \n",
       "\n",
       "business_id             zwNC-Ow4eIMan2__bS9-rg  \n",
       "user_id                                         \n",
       "---1lKK3aKOuomHnwAkAow                     0.0  \n",
       "--2vR0DIsmQ6WfcSzKWigw                     0.0  \n",
       "--4q8EyqThydQm-eKZpS-A                     0.0  \n",
       "--56mD0sm1eOogphi2FFLw                     0.0  \n",
       "--CIuK7sUpaNzalLAlHJKA                     0.0  \n",
       "\n",
       "[5 rows x 1523 columns]"
      ]
     },
     "execution_count": 59,
     "metadata": {},
     "output_type": "execute_result"
    }
   ],
   "source": [
    "resids_df.head()"
   ]
  },
  {
   "cell_type": "markdown",
   "metadata": {},
   "source": [
    "### Matrix Factorization"
   ]
  },
  {
   "cell_type": "markdown",
   "metadata": {},
   "source": [
    "Code taken from https://bugra.github.io/work/notes/2014-04-19/alternating-least-squares-method-for-collaborative-filtering/"
   ]
  },
  {
   "cell_type": "code",
   "execution_count": 61,
   "metadata": {
    "collapsed": true
   },
   "outputs": [],
   "source": [
    "Q = resids_df.values"
   ]
  },
  {
   "cell_type": "code",
   "execution_count": 62,
   "metadata": {
    "collapsed": true
   },
   "outputs": [],
   "source": [
    "W = Q>0.5\n",
    "W[W == True] = 1\n",
    "W[W == False] = 0\n",
    "# To be consistent with our Q matrix\n",
    "W = W.astype(np.float64, copy=False)"
   ]
  },
  {
   "cell_type": "code",
   "execution_count": 63,
   "metadata": {},
   "outputs": [
    {
     "data": {
      "text/plain": [
       "(15455, 1523)"
      ]
     },
     "execution_count": 63,
     "metadata": {},
     "output_type": "execute_result"
    }
   ],
   "source": [
    "W.shape"
   ]
  },
  {
   "cell_type": "code",
   "execution_count": 72,
   "metadata": {
    "collapsed": true
   },
   "outputs": [],
   "source": [
    "lambda_ = 0.1\n",
    "n_factors = 20\n",
    "m, n = Q.shape\n",
    "n_iterations = 10"
   ]
  },
  {
   "cell_type": "code",
   "execution_count": 73,
   "metadata": {
    "collapsed": true
   },
   "outputs": [],
   "source": [
    "X = 5 * np.random.rand(m, n_factors) \n",
    "Y = 5 * np.random.rand(n_factors, n)"
   ]
  },
  {
   "cell_type": "code",
   "execution_count": 74,
   "metadata": {
    "collapsed": true
   },
   "outputs": [],
   "source": [
    "def get_error(Q, X, Y, W):\n",
    "    return np.sum((W * (Q - np.dot(X, Y)))**2)"
   ]
  },
  {
   "cell_type": "code",
   "execution_count": 75,
   "metadata": {},
   "outputs": [
    {
     "name": "stdout",
     "output_type": "stream",
     "text": [
      "Error of rated movies: 12955.384191909738\n"
     ]
    }
   ],
   "source": [
    "errors = []\n",
    "for ii in range(n_iterations):\n",
    "    X = np.linalg.solve(np.dot(Y, Y.T) + lambda_ * np.eye(n_factors), \n",
    "                        np.dot(Y, Q.T)).T\n",
    "    Y = np.linalg.solve(np.dot(X.T, X) + lambda_ * np.eye(n_factors),\n",
    "                        np.dot(X.T, Q))\n",
    "    errors.append(get_error(Q, X, Y, W))\n",
    "Q_hat = np.dot(X, Y)\n",
    "print('Error of rated movies: {}'.format(get_error(Q, X, Y, W)))"
   ]
  },
  {
   "cell_type": "code",
   "execution_count": 77,
   "metadata": {
    "collapsed": true
   },
   "outputs": [],
   "source": [
    "fac_preds_df = pd.DataFrame(Q_hat, columns = r_df.columns, index = r_df.index)"
   ]
  },
  {
   "cell_type": "code",
   "execution_count": 78,
   "metadata": {},
   "outputs": [
    {
     "data": {
      "text/html": [
       "<div>\n",
       "<style>\n",
       "    .dataframe thead tr:only-child th {\n",
       "        text-align: right;\n",
       "    }\n",
       "\n",
       "    .dataframe thead th {\n",
       "        text-align: left;\n",
       "    }\n",
       "\n",
       "    .dataframe tbody tr th {\n",
       "        vertical-align: top;\n",
       "    }\n",
       "</style>\n",
       "<table border=\"1\" class=\"dataframe\">\n",
       "  <thead>\n",
       "    <tr style=\"text-align: right;\">\n",
       "      <th>business_id</th>\n",
       "      <th>--9e1ONYQuAa-CB_Rrw7Tw</th>\n",
       "      <th>-050d_XIor1NpCuWkbIVaQ</th>\n",
       "      <th>-1xuC540Nycht_iWFeJ-dw</th>\n",
       "      <th>-2ToCaDFpTNmmg3QFzxcWg</th>\n",
       "      <th>-3zffZUHoY8bQjGfPSoBKQ</th>\n",
       "      <th>-6h3K1hj0d4DRcZNUtHDuw</th>\n",
       "      <th>-6tvduBzjLI1ISfs3F_qTg</th>\n",
       "      <th>-7H-oXvCxJzuT42ky6Db0g</th>\n",
       "      <th>-95mbLJsa0CxXhpaNL4LvA</th>\n",
       "      <th>-9dmhyBvepc08KPEHlEM0w</th>\n",
       "      <th>...</th>\n",
       "      <th>zcScEL0WEdFkROcnz5379g</th>\n",
       "      <th>zdE82PiD6wquvjYLyhOJNA</th>\n",
       "      <th>zgQHtqX0gqMw1nlBZl2VnQ</th>\n",
       "      <th>zlpLjbwrKuNs8zROgB_qUQ</th>\n",
       "      <th>znWHLW1pt19HzW1VY6KfCA</th>\n",
       "      <th>zoODlH40edpJYLPLkHilNA</th>\n",
       "      <th>zpoZ6WyQUYff18-z4ZU1mA</th>\n",
       "      <th>zrDi4gEaUi64lAMfJU51dw</th>\n",
       "      <th>zrTGcb83AsfyVTMrsCa65A</th>\n",
       "      <th>zwNC-Ow4eIMan2__bS9-rg</th>\n",
       "    </tr>\n",
       "    <tr>\n",
       "      <th>user_id</th>\n",
       "      <th></th>\n",
       "      <th></th>\n",
       "      <th></th>\n",
       "      <th></th>\n",
       "      <th></th>\n",
       "      <th></th>\n",
       "      <th></th>\n",
       "      <th></th>\n",
       "      <th></th>\n",
       "      <th></th>\n",
       "      <th></th>\n",
       "      <th></th>\n",
       "      <th></th>\n",
       "      <th></th>\n",
       "      <th></th>\n",
       "      <th></th>\n",
       "      <th></th>\n",
       "      <th></th>\n",
       "      <th></th>\n",
       "      <th></th>\n",
       "      <th></th>\n",
       "    </tr>\n",
       "  </thead>\n",
       "  <tbody>\n",
       "    <tr>\n",
       "      <th>---1lKK3aKOuomHnwAkAow</th>\n",
       "      <td>-0.001057</td>\n",
       "      <td>0.001861</td>\n",
       "      <td>-4.930082e-04</td>\n",
       "      <td>-4.918077e-04</td>\n",
       "      <td>-0.007930</td>\n",
       "      <td>-0.002952</td>\n",
       "      <td>0.000315</td>\n",
       "      <td>-0.000522</td>\n",
       "      <td>-0.000073</td>\n",
       "      <td>0.000288</td>\n",
       "      <td>...</td>\n",
       "      <td>0.002016</td>\n",
       "      <td>0.009009</td>\n",
       "      <td>-0.000488</td>\n",
       "      <td>-0.001545</td>\n",
       "      <td>0.000669</td>\n",
       "      <td>0.004804</td>\n",
       "      <td>0.000167</td>\n",
       "      <td>0.005785</td>\n",
       "      <td>-0.001261</td>\n",
       "      <td>-0.006878</td>\n",
       "    </tr>\n",
       "    <tr>\n",
       "      <th>--2vR0DIsmQ6WfcSzKWigw</th>\n",
       "      <td>-0.004634</td>\n",
       "      <td>-0.000084</td>\n",
       "      <td>-2.785871e-04</td>\n",
       "      <td>1.090502e-04</td>\n",
       "      <td>0.007119</td>\n",
       "      <td>-0.000503</td>\n",
       "      <td>-0.000032</td>\n",
       "      <td>-0.000023</td>\n",
       "      <td>-0.000135</td>\n",
       "      <td>-0.000097</td>\n",
       "      <td>...</td>\n",
       "      <td>0.000377</td>\n",
       "      <td>0.000877</td>\n",
       "      <td>0.000114</td>\n",
       "      <td>0.000052</td>\n",
       "      <td>-0.000063</td>\n",
       "      <td>0.000586</td>\n",
       "      <td>-0.005376</td>\n",
       "      <td>-0.001118</td>\n",
       "      <td>0.000532</td>\n",
       "      <td>-0.000522</td>\n",
       "    </tr>\n",
       "    <tr>\n",
       "      <th>--4q8EyqThydQm-eKZpS-A</th>\n",
       "      <td>0.015085</td>\n",
       "      <td>-0.000305</td>\n",
       "      <td>2.351535e-04</td>\n",
       "      <td>-3.563541e-05</td>\n",
       "      <td>-0.000531</td>\n",
       "      <td>-0.000158</td>\n",
       "      <td>-0.000294</td>\n",
       "      <td>0.000067</td>\n",
       "      <td>-0.000652</td>\n",
       "      <td>0.000113</td>\n",
       "      <td>...</td>\n",
       "      <td>-0.000833</td>\n",
       "      <td>-0.000261</td>\n",
       "      <td>-0.000050</td>\n",
       "      <td>-0.001531</td>\n",
       "      <td>-0.004251</td>\n",
       "      <td>-0.000271</td>\n",
       "      <td>-0.000081</td>\n",
       "      <td>-0.000432</td>\n",
       "      <td>0.000208</td>\n",
       "      <td>0.000258</td>\n",
       "    </tr>\n",
       "    <tr>\n",
       "      <th>--56mD0sm1eOogphi2FFLw</th>\n",
       "      <td>0.000005</td>\n",
       "      <td>-0.000002</td>\n",
       "      <td>-3.324232e-07</td>\n",
       "      <td>7.451144e-07</td>\n",
       "      <td>0.000004</td>\n",
       "      <td>-0.000001</td>\n",
       "      <td>0.000002</td>\n",
       "      <td>0.000001</td>\n",
       "      <td>-0.000002</td>\n",
       "      <td>0.000001</td>\n",
       "      <td>...</td>\n",
       "      <td>0.000011</td>\n",
       "      <td>0.000030</td>\n",
       "      <td>0.000002</td>\n",
       "      <td>-0.000025</td>\n",
       "      <td>0.000007</td>\n",
       "      <td>-0.000008</td>\n",
       "      <td>0.000003</td>\n",
       "      <td>0.000006</td>\n",
       "      <td>0.000004</td>\n",
       "      <td>-0.000003</td>\n",
       "    </tr>\n",
       "    <tr>\n",
       "      <th>--CIuK7sUpaNzalLAlHJKA</th>\n",
       "      <td>-0.000144</td>\n",
       "      <td>-0.000058</td>\n",
       "      <td>3.799868e-04</td>\n",
       "      <td>-2.089563e-05</td>\n",
       "      <td>0.000032</td>\n",
       "      <td>0.000053</td>\n",
       "      <td>-0.000015</td>\n",
       "      <td>0.000008</td>\n",
       "      <td>-0.000035</td>\n",
       "      <td>0.000017</td>\n",
       "      <td>...</td>\n",
       "      <td>-0.000534</td>\n",
       "      <td>-0.000084</td>\n",
       "      <td>-0.000015</td>\n",
       "      <td>-0.000206</td>\n",
       "      <td>0.000069</td>\n",
       "      <td>-0.000407</td>\n",
       "      <td>-0.000018</td>\n",
       "      <td>0.000072</td>\n",
       "      <td>0.000072</td>\n",
       "      <td>0.000082</td>\n",
       "    </tr>\n",
       "  </tbody>\n",
       "</table>\n",
       "<p>5 rows × 1523 columns</p>\n",
       "</div>"
      ],
      "text/plain": [
       "business_id             --9e1ONYQuAa-CB_Rrw7Tw  -050d_XIor1NpCuWkbIVaQ  \\\n",
       "user_id                                                                  \n",
       "---1lKK3aKOuomHnwAkAow               -0.001057                0.001861   \n",
       "--2vR0DIsmQ6WfcSzKWigw               -0.004634               -0.000084   \n",
       "--4q8EyqThydQm-eKZpS-A                0.015085               -0.000305   \n",
       "--56mD0sm1eOogphi2FFLw                0.000005               -0.000002   \n",
       "--CIuK7sUpaNzalLAlHJKA               -0.000144               -0.000058   \n",
       "\n",
       "business_id             -1xuC540Nycht_iWFeJ-dw  -2ToCaDFpTNmmg3QFzxcWg  \\\n",
       "user_id                                                                  \n",
       "---1lKK3aKOuomHnwAkAow           -4.930082e-04           -4.918077e-04   \n",
       "--2vR0DIsmQ6WfcSzKWigw           -2.785871e-04            1.090502e-04   \n",
       "--4q8EyqThydQm-eKZpS-A            2.351535e-04           -3.563541e-05   \n",
       "--56mD0sm1eOogphi2FFLw           -3.324232e-07            7.451144e-07   \n",
       "--CIuK7sUpaNzalLAlHJKA            3.799868e-04           -2.089563e-05   \n",
       "\n",
       "business_id             -3zffZUHoY8bQjGfPSoBKQ  -6h3K1hj0d4DRcZNUtHDuw  \\\n",
       "user_id                                                                  \n",
       "---1lKK3aKOuomHnwAkAow               -0.007930               -0.002952   \n",
       "--2vR0DIsmQ6WfcSzKWigw                0.007119               -0.000503   \n",
       "--4q8EyqThydQm-eKZpS-A               -0.000531               -0.000158   \n",
       "--56mD0sm1eOogphi2FFLw                0.000004               -0.000001   \n",
       "--CIuK7sUpaNzalLAlHJKA                0.000032                0.000053   \n",
       "\n",
       "business_id             -6tvduBzjLI1ISfs3F_qTg  -7H-oXvCxJzuT42ky6Db0g  \\\n",
       "user_id                                                                  \n",
       "---1lKK3aKOuomHnwAkAow                0.000315               -0.000522   \n",
       "--2vR0DIsmQ6WfcSzKWigw               -0.000032               -0.000023   \n",
       "--4q8EyqThydQm-eKZpS-A               -0.000294                0.000067   \n",
       "--56mD0sm1eOogphi2FFLw                0.000002                0.000001   \n",
       "--CIuK7sUpaNzalLAlHJKA               -0.000015                0.000008   \n",
       "\n",
       "business_id             -95mbLJsa0CxXhpaNL4LvA  -9dmhyBvepc08KPEHlEM0w  \\\n",
       "user_id                                                                  \n",
       "---1lKK3aKOuomHnwAkAow               -0.000073                0.000288   \n",
       "--2vR0DIsmQ6WfcSzKWigw               -0.000135               -0.000097   \n",
       "--4q8EyqThydQm-eKZpS-A               -0.000652                0.000113   \n",
       "--56mD0sm1eOogphi2FFLw               -0.000002                0.000001   \n",
       "--CIuK7sUpaNzalLAlHJKA               -0.000035                0.000017   \n",
       "\n",
       "business_id                      ...            zcScEL0WEdFkROcnz5379g  \\\n",
       "user_id                          ...                                     \n",
       "---1lKK3aKOuomHnwAkAow           ...                          0.002016   \n",
       "--2vR0DIsmQ6WfcSzKWigw           ...                          0.000377   \n",
       "--4q8EyqThydQm-eKZpS-A           ...                         -0.000833   \n",
       "--56mD0sm1eOogphi2FFLw           ...                          0.000011   \n",
       "--CIuK7sUpaNzalLAlHJKA           ...                         -0.000534   \n",
       "\n",
       "business_id             zdE82PiD6wquvjYLyhOJNA  zgQHtqX0gqMw1nlBZl2VnQ  \\\n",
       "user_id                                                                  \n",
       "---1lKK3aKOuomHnwAkAow                0.009009               -0.000488   \n",
       "--2vR0DIsmQ6WfcSzKWigw                0.000877                0.000114   \n",
       "--4q8EyqThydQm-eKZpS-A               -0.000261               -0.000050   \n",
       "--56mD0sm1eOogphi2FFLw                0.000030                0.000002   \n",
       "--CIuK7sUpaNzalLAlHJKA               -0.000084               -0.000015   \n",
       "\n",
       "business_id             zlpLjbwrKuNs8zROgB_qUQ  znWHLW1pt19HzW1VY6KfCA  \\\n",
       "user_id                                                                  \n",
       "---1lKK3aKOuomHnwAkAow               -0.001545                0.000669   \n",
       "--2vR0DIsmQ6WfcSzKWigw                0.000052               -0.000063   \n",
       "--4q8EyqThydQm-eKZpS-A               -0.001531               -0.004251   \n",
       "--56mD0sm1eOogphi2FFLw               -0.000025                0.000007   \n",
       "--CIuK7sUpaNzalLAlHJKA               -0.000206                0.000069   \n",
       "\n",
       "business_id             zoODlH40edpJYLPLkHilNA  zpoZ6WyQUYff18-z4ZU1mA  \\\n",
       "user_id                                                                  \n",
       "---1lKK3aKOuomHnwAkAow                0.004804                0.000167   \n",
       "--2vR0DIsmQ6WfcSzKWigw                0.000586               -0.005376   \n",
       "--4q8EyqThydQm-eKZpS-A               -0.000271               -0.000081   \n",
       "--56mD0sm1eOogphi2FFLw               -0.000008                0.000003   \n",
       "--CIuK7sUpaNzalLAlHJKA               -0.000407               -0.000018   \n",
       "\n",
       "business_id             zrDi4gEaUi64lAMfJU51dw  zrTGcb83AsfyVTMrsCa65A  \\\n",
       "user_id                                                                  \n",
       "---1lKK3aKOuomHnwAkAow                0.005785               -0.001261   \n",
       "--2vR0DIsmQ6WfcSzKWigw               -0.001118                0.000532   \n",
       "--4q8EyqThydQm-eKZpS-A               -0.000432                0.000208   \n",
       "--56mD0sm1eOogphi2FFLw                0.000006                0.000004   \n",
       "--CIuK7sUpaNzalLAlHJKA                0.000072                0.000072   \n",
       "\n",
       "business_id             zwNC-Ow4eIMan2__bS9-rg  \n",
       "user_id                                         \n",
       "---1lKK3aKOuomHnwAkAow               -0.006878  \n",
       "--2vR0DIsmQ6WfcSzKWigw               -0.000522  \n",
       "--4q8EyqThydQm-eKZpS-A                0.000258  \n",
       "--56mD0sm1eOogphi2FFLw               -0.000003  \n",
       "--CIuK7sUpaNzalLAlHJKA                0.000082  \n",
       "\n",
       "[5 rows x 1523 columns]"
      ]
     },
     "execution_count": 78,
     "metadata": {},
     "output_type": "execute_result"
    }
   ],
   "source": [
    "fac_preds_df.head()"
   ]
  },
  {
   "cell_type": "markdown",
   "metadata": {},
   "source": [
    "# PREDICT"
   ]
  },
  {
   "cell_type": "code",
   "execution_count": 83,
   "metadata": {
    "collapsed": true
   },
   "outputs": [],
   "source": [
    "def get_reccomendations(user, number_rec,df):\n",
    "    top_preds = df.loc[user][fill_zero_rf.loc[user] == 0].sort_values(ascending = False)[:number_rec]\n",
    "    top_preds_df = pd.DataFrame(top_preds).rename(columns={user:\"predicted rating\"})\n",
    "    predictions = pd.merge(left = top_preds_df, right = df_business, left_index = True, right_on=\"business_id\")\n",
    "#     top_preds_df.join(df_business, on=\"business_id\")\n",
    "    return predictions\n",
    "#     return top_preds_df"
   ]
  },
  {
   "cell_type": "markdown",
   "metadata": {},
   "source": [
    "##### Let's predict for user ---1lKK3aKOuomHnwAkAow. Let's check what are his top choices:"
   ]
  },
  {
   "cell_type": "code",
   "execution_count": 105,
   "metadata": {},
   "outputs": [],
   "source": [
    "top_ratings_user_x = df_review[df_review[\"user_id\"] == \"---1lKK3aKOuomHnwAkAow\"].sort_values(\"stars\", ascending = False)[:10][\"business_id\"]"
   ]
  },
  {
   "cell_type": "code",
   "execution_count": 106,
   "metadata": {},
   "outputs": [
    {
     "data": {
      "text/html": [
       "<div>\n",
       "<style>\n",
       "    .dataframe thead tr:only-child th {\n",
       "        text-align: right;\n",
       "    }\n",
       "\n",
       "    .dataframe thead th {\n",
       "        text-align: left;\n",
       "    }\n",
       "\n",
       "    .dataframe tbody tr th {\n",
       "        vertical-align: top;\n",
       "    }\n",
       "</style>\n",
       "<table border=\"1\" class=\"dataframe\">\n",
       "  <thead>\n",
       "    <tr style=\"text-align: right;\">\n",
       "      <th></th>\n",
       "      <th>address</th>\n",
       "      <th>business_id</th>\n",
       "      <th>categories</th>\n",
       "      <th>city</th>\n",
       "      <th>name</th>\n",
       "      <th>review_count</th>\n",
       "      <th>stars</th>\n",
       "      <th>state</th>\n",
       "    </tr>\n",
       "  </thead>\n",
       "  <tbody>\n",
       "    <tr>\n",
       "      <th>104700</th>\n",
       "      <td>750 S Rampart Blvd, Ste 7</td>\n",
       "      <td>RRw9I8pHt5PzgYGT2QeODw</td>\n",
       "      <td>[Pizza, Restaurants]</td>\n",
       "      <td>Las Vegas</td>\n",
       "      <td>Grimaldi's Pizzeria</td>\n",
       "      <td>431</td>\n",
       "      <td>4.0</td>\n",
       "      <td>NV</td>\n",
       "    </tr>\n",
       "    <tr>\n",
       "      <th>110934</th>\n",
       "      <td>113 N 4th St</td>\n",
       "      <td>eJKnymd0BywNPrJw1IuXVw</td>\n",
       "      <td>[Breakfast &amp; Brunch, Mexican, Restaurants, Ame...</td>\n",
       "      <td>Las Vegas</td>\n",
       "      <td>Nacho Daddy Downtown</td>\n",
       "      <td>723</td>\n",
       "      <td>4.0</td>\n",
       "      <td>NV</td>\n",
       "    </tr>\n",
       "    <tr>\n",
       "      <th>142630</th>\n",
       "      <td>3555 S Town Center Dr, Ste 105</td>\n",
       "      <td>bPcqucuuClxYrIM8xWoArg</td>\n",
       "      <td>[Italian, Wine Bars, Restaurants, Nightlife, B...</td>\n",
       "      <td>Las Vegas</td>\n",
       "      <td>Due Forni</td>\n",
       "      <td>446</td>\n",
       "      <td>4.0</td>\n",
       "      <td>NV</td>\n",
       "    </tr>\n",
       "    <tr>\n",
       "      <th>14551</th>\n",
       "      <td>750 S Rampart Blvd, Ste 9</td>\n",
       "      <td>rq5dgoksPHkJwJNQKlGQ7w</td>\n",
       "      <td>[Food, Coffee &amp; Tea, Breakfast &amp; Brunch, Cafes...</td>\n",
       "      <td>Las Vegas</td>\n",
       "      <td>Sambalatte Torrefazione</td>\n",
       "      <td>752</td>\n",
       "      <td>4.0</td>\n",
       "      <td>NV</td>\n",
       "    </tr>\n",
       "    <tr>\n",
       "      <th>32230</th>\n",
       "      <td>440 S Rampart Blvd</td>\n",
       "      <td>igHYkXZMLAc9UdV5VnR_AA</td>\n",
       "      <td>[Steakhouses, Restaurants]</td>\n",
       "      <td>Las Vegas</td>\n",
       "      <td>Echo &amp; Rig</td>\n",
       "      <td>1665</td>\n",
       "      <td>4.5</td>\n",
       "      <td>NV</td>\n",
       "    </tr>\n",
       "    <tr>\n",
       "      <th>40479</th>\n",
       "      <td>10100 W Charleston Blvd, Ste 150</td>\n",
       "      <td>qmymSqVwHYRqdwfcBatzpQ</td>\n",
       "      <td>[American (New), Restaurants, Sandwiches, Bars...</td>\n",
       "      <td>Las Vegas</td>\n",
       "      <td>Vintner Grill</td>\n",
       "      <td>571</td>\n",
       "      <td>4.0</td>\n",
       "      <td>NV</td>\n",
       "    </tr>\n",
       "    <tr>\n",
       "      <th>78134</th>\n",
       "      <td>8975 S Eastern Ave</td>\n",
       "      <td>p5rpYtxS5xPQjt3MXYVEwA</td>\n",
       "      <td>[Vegetarian, Restaurants, Burgers, Vegan, Amer...</td>\n",
       "      <td>Las Vegas</td>\n",
       "      <td>Greens and Proteins</td>\n",
       "      <td>600</td>\n",
       "      <td>4.0</td>\n",
       "      <td>NV</td>\n",
       "    </tr>\n",
       "    <tr>\n",
       "      <th>84520</th>\n",
       "      <td>The Mirage Hotel Casino, 3400 Las Vegas Blvd S</td>\n",
       "      <td>mz9ltimeAIy2c2qf5ctljw</td>\n",
       "      <td>[Arts &amp; Entertainment, Performing Arts]</td>\n",
       "      <td>Las Vegas</td>\n",
       "      <td>Cirque du Soleil - The Beatles LOVE</td>\n",
       "      <td>1766</td>\n",
       "      <td>4.5</td>\n",
       "      <td>NV</td>\n",
       "    </tr>\n",
       "    <tr>\n",
       "      <th>92918</th>\n",
       "      <td>953 E Sahara Ave, Ste A5</td>\n",
       "      <td>KskYqH1Bi7Z_61pH6Om8pg</td>\n",
       "      <td>[Automotive, Car Dealers, Restaurants, Thai, N...</td>\n",
       "      <td>Las Vegas</td>\n",
       "      <td>Lotus of Siam</td>\n",
       "      <td>3838</td>\n",
       "      <td>4.0</td>\n",
       "      <td>NV</td>\n",
       "    </tr>\n",
       "    <tr>\n",
       "      <th>93528</th>\n",
       "      <td>8751 W Charleston Blvd, Ste 110</td>\n",
       "      <td>A0X1baHPgw9IiBRivu0G9g</td>\n",
       "      <td>[Bakeries, French, Restaurants, Food]</td>\n",
       "      <td>Las Vegas</td>\n",
       "      <td>Patisserie Manon</td>\n",
       "      <td>598</td>\n",
       "      <td>4.0</td>\n",
       "      <td>NV</td>\n",
       "    </tr>\n",
       "  </tbody>\n",
       "</table>\n",
       "</div>"
      ],
      "text/plain": [
       "                                               address  \\\n",
       "104700                       750 S Rampart Blvd, Ste 7   \n",
       "110934                                    113 N 4th St   \n",
       "142630                  3555 S Town Center Dr, Ste 105   \n",
       "14551                        750 S Rampart Blvd, Ste 9   \n",
       "32230                               440 S Rampart Blvd   \n",
       "40479                 10100 W Charleston Blvd, Ste 150   \n",
       "78134                               8975 S Eastern Ave   \n",
       "84520   The Mirage Hotel Casino, 3400 Las Vegas Blvd S   \n",
       "92918                         953 E Sahara Ave, Ste A5   \n",
       "93528                  8751 W Charleston Blvd, Ste 110   \n",
       "\n",
       "                   business_id  \\\n",
       "104700  RRw9I8pHt5PzgYGT2QeODw   \n",
       "110934  eJKnymd0BywNPrJw1IuXVw   \n",
       "142630  bPcqucuuClxYrIM8xWoArg   \n",
       "14551   rq5dgoksPHkJwJNQKlGQ7w   \n",
       "32230   igHYkXZMLAc9UdV5VnR_AA   \n",
       "40479   qmymSqVwHYRqdwfcBatzpQ   \n",
       "78134   p5rpYtxS5xPQjt3MXYVEwA   \n",
       "84520   mz9ltimeAIy2c2qf5ctljw   \n",
       "92918   KskYqH1Bi7Z_61pH6Om8pg   \n",
       "93528   A0X1baHPgw9IiBRivu0G9g   \n",
       "\n",
       "                                               categories       city  \\\n",
       "104700                               [Pizza, Restaurants]  Las Vegas   \n",
       "110934  [Breakfast & Brunch, Mexican, Restaurants, Ame...  Las Vegas   \n",
       "142630  [Italian, Wine Bars, Restaurants, Nightlife, B...  Las Vegas   \n",
       "14551   [Food, Coffee & Tea, Breakfast & Brunch, Cafes...  Las Vegas   \n",
       "32230                          [Steakhouses, Restaurants]  Las Vegas   \n",
       "40479   [American (New), Restaurants, Sandwiches, Bars...  Las Vegas   \n",
       "78134   [Vegetarian, Restaurants, Burgers, Vegan, Amer...  Las Vegas   \n",
       "84520             [Arts & Entertainment, Performing Arts]  Las Vegas   \n",
       "92918   [Automotive, Car Dealers, Restaurants, Thai, N...  Las Vegas   \n",
       "93528               [Bakeries, French, Restaurants, Food]  Las Vegas   \n",
       "\n",
       "                                       name  review_count  stars state  \n",
       "104700                  Grimaldi's Pizzeria           431    4.0    NV  \n",
       "110934                 Nacho Daddy Downtown           723    4.0    NV  \n",
       "142630                            Due Forni           446    4.0    NV  \n",
       "14551               Sambalatte Torrefazione           752    4.0    NV  \n",
       "32230                            Echo & Rig          1665    4.5    NV  \n",
       "40479                         Vintner Grill           571    4.0    NV  \n",
       "78134                   Greens and Proteins           600    4.0    NV  \n",
       "84520   Cirque du Soleil - The Beatles LOVE          1766    4.5    NV  \n",
       "92918                         Lotus of Siam          3838    4.0    NV  \n",
       "93528                      Patisserie Manon           598    4.0    NV  "
      ]
     },
     "execution_count": 106,
     "metadata": {},
     "output_type": "execute_result"
    }
   ],
   "source": [
    "df_business[df_business[\"business_id\"].isin(top_ratings_user_x)]"
   ]
  },
  {
   "cell_type": "markdown",
   "metadata": {},
   "source": [
    "We see that this user really likes American Restaurants, Pizza, etc. He probably lives in Las vegas"
   ]
  },
  {
   "cell_type": "markdown",
   "metadata": {},
   "source": [
    "##### Predict using basic averages"
   ]
  },
  {
   "cell_type": "code",
   "execution_count": 86,
   "metadata": {
    "scrolled": false
   },
   "outputs": [
    {
     "data": {
      "text/html": [
       "<div>\n",
       "<style>\n",
       "    .dataframe thead tr:only-child th {\n",
       "        text-align: right;\n",
       "    }\n",
       "\n",
       "    .dataframe thead th {\n",
       "        text-align: left;\n",
       "    }\n",
       "\n",
       "    .dataframe tbody tr th {\n",
       "        vertical-align: top;\n",
       "    }\n",
       "</style>\n",
       "<table border=\"1\" class=\"dataframe\">\n",
       "  <thead>\n",
       "    <tr style=\"text-align: right;\">\n",
       "      <th></th>\n",
       "      <th>predicted rating</th>\n",
       "      <th>address</th>\n",
       "      <th>business_id</th>\n",
       "      <th>categories</th>\n",
       "      <th>city</th>\n",
       "      <th>name</th>\n",
       "      <th>review_count</th>\n",
       "      <th>stars</th>\n",
       "      <th>state</th>\n",
       "    </tr>\n",
       "  </thead>\n",
       "  <tbody>\n",
       "    <tr>\n",
       "      <th>135187</th>\n",
       "      <td>5.660683</td>\n",
       "      <td>4627 E Ivy St, Ste 1</td>\n",
       "      <td>lH0Ph4DiYSqj9UJBXAq8hQ</td>\n",
       "      <td>[Home Services, Local Services, Self Storage, ...</td>\n",
       "      <td>Mesa</td>\n",
       "      <td>Just-In Time Moving and Delivery</td>\n",
       "      <td>374</td>\n",
       "      <td>5.0</td>\n",
       "      <td>AZ</td>\n",
       "    </tr>\n",
       "    <tr>\n",
       "      <th>100304</th>\n",
       "      <td>5.660683</td>\n",
       "      <td>2960 S Durango Dr, Ste 112</td>\n",
       "      <td>56_j_lcGj5X9SpM2KzLm4A</td>\n",
       "      <td>[Laser Hair Removal, Beauty &amp; Spas, Skin Care,...</td>\n",
       "      <td>Las Vegas</td>\n",
       "      <td>Fabulous Eyebrow Threading</td>\n",
       "      <td>453</td>\n",
       "      <td>5.0</td>\n",
       "      <td>NV</td>\n",
       "    </tr>\n",
       "    <tr>\n",
       "      <th>107956</th>\n",
       "      <td>5.660683</td>\n",
       "      <td>7910 S Rainbow Blvd, Ste 110</td>\n",
       "      <td>Hp8k_RpSIWSeJguyaQpfIw</td>\n",
       "      <td>[Gelato, Food, Desserts, Ice Cream &amp; Frozen Yo...</td>\n",
       "      <td>Las Vegas</td>\n",
       "      <td>Gelatology</td>\n",
       "      <td>473</td>\n",
       "      <td>5.0</td>\n",
       "      <td>NV</td>\n",
       "    </tr>\n",
       "    <tr>\n",
       "      <th>87518</th>\n",
       "      <td>5.660683</td>\n",
       "      <td>10520 S Eastern Ave</td>\n",
       "      <td>Wcuo6YmYj3xhCso5sMQcOw</td>\n",
       "      <td>[Pizza, Gluten-Free, Restaurants, Fast Food, S...</td>\n",
       "      <td>Henderson</td>\n",
       "      <td>Blaze Fast-Fire'd Pizza</td>\n",
       "      <td>364</td>\n",
       "      <td>4.5</td>\n",
       "      <td>NV</td>\n",
       "    </tr>\n",
       "    <tr>\n",
       "      <th>143283</th>\n",
       "      <td>5.660683</td>\n",
       "      <td>7608 W Cactus Rd</td>\n",
       "      <td>ZKsVCA89iXMccf3fEhS3iw</td>\n",
       "      <td>[Restaurants, Seafood, Cajun/Creole, American ...</td>\n",
       "      <td>Peoria</td>\n",
       "      <td>Angry Crab Peoria</td>\n",
       "      <td>365</td>\n",
       "      <td>4.5</td>\n",
       "      <td>AZ</td>\n",
       "    </tr>\n",
       "  </tbody>\n",
       "</table>\n",
       "</div>"
      ],
      "text/plain": [
       "        predicted rating                       address  \\\n",
       "135187          5.660683          4627 E Ivy St, Ste 1   \n",
       "100304          5.660683    2960 S Durango Dr, Ste 112   \n",
       "107956          5.660683  7910 S Rainbow Blvd, Ste 110   \n",
       "87518           5.660683           10520 S Eastern Ave   \n",
       "143283          5.660683              7608 W Cactus Rd   \n",
       "\n",
       "                   business_id  \\\n",
       "135187  lH0Ph4DiYSqj9UJBXAq8hQ   \n",
       "100304  56_j_lcGj5X9SpM2KzLm4A   \n",
       "107956  Hp8k_RpSIWSeJguyaQpfIw   \n",
       "87518   Wcuo6YmYj3xhCso5sMQcOw   \n",
       "143283  ZKsVCA89iXMccf3fEhS3iw   \n",
       "\n",
       "                                               categories       city  \\\n",
       "135187  [Home Services, Local Services, Self Storage, ...       Mesa   \n",
       "100304  [Laser Hair Removal, Beauty & Spas, Skin Care,...  Las Vegas   \n",
       "107956  [Gelato, Food, Desserts, Ice Cream & Frozen Yo...  Las Vegas   \n",
       "87518   [Pizza, Gluten-Free, Restaurants, Fast Food, S...  Henderson   \n",
       "143283  [Restaurants, Seafood, Cajun/Creole, American ...     Peoria   \n",
       "\n",
       "                                    name  review_count  stars state  \n",
       "135187  Just-In Time Moving and Delivery           374    5.0    AZ  \n",
       "100304        Fabulous Eyebrow Threading           453    5.0    NV  \n",
       "107956                        Gelatology           473    5.0    NV  \n",
       "87518            Blaze Fast-Fire'd Pizza           364    4.5    NV  \n",
       "143283                 Angry Crab Peoria           365    4.5    AZ  "
      ]
     },
     "execution_count": 86,
     "metadata": {},
     "output_type": "execute_result"
    }
   ],
   "source": [
    "get_reccomendations(\"---1lKK3aKOuomHnwAkAow\",5,avg_preds_df)"
   ]
  },
  {
   "cell_type": "markdown",
   "metadata": {},
   "source": [
    "Our baseline model recomends only one restaurant with American food and a few places with weird categories."
   ]
  },
  {
   "cell_type": "markdown",
   "metadata": {},
   "source": [
    "##### Predict using lasso regression"
   ]
  },
  {
   "cell_type": "code",
   "execution_count": 88,
   "metadata": {},
   "outputs": [
    {
     "data": {
      "text/html": [
       "<div>\n",
       "<style>\n",
       "    .dataframe thead tr:only-child th {\n",
       "        text-align: right;\n",
       "    }\n",
       "\n",
       "    .dataframe thead th {\n",
       "        text-align: left;\n",
       "    }\n",
       "\n",
       "    .dataframe tbody tr th {\n",
       "        vertical-align: top;\n",
       "    }\n",
       "</style>\n",
       "<table border=\"1\" class=\"dataframe\">\n",
       "  <thead>\n",
       "    <tr style=\"text-align: right;\">\n",
       "      <th></th>\n",
       "      <th>predicted rating</th>\n",
       "      <th>address</th>\n",
       "      <th>business_id</th>\n",
       "      <th>categories</th>\n",
       "      <th>city</th>\n",
       "      <th>name</th>\n",
       "      <th>review_count</th>\n",
       "      <th>stars</th>\n",
       "      <th>state</th>\n",
       "    </tr>\n",
       "  </thead>\n",
       "  <tbody>\n",
       "    <tr>\n",
       "      <th>36525</th>\n",
       "      <td>4.719550</td>\n",
       "      <td>3799 Las Vegas Blvd S</td>\n",
       "      <td>XnJeadLrlj9AZB8qSdIR2Q</td>\n",
       "      <td>[Restaurants, French]</td>\n",
       "      <td>Las Vegas</td>\n",
       "      <td>Joël  Robuchon</td>\n",
       "      <td>831</td>\n",
       "      <td>4.5</td>\n",
       "      <td>NV</td>\n",
       "    </tr>\n",
       "    <tr>\n",
       "      <th>89310</th>\n",
       "      <td>4.710545</td>\n",
       "      <td>115 Federal St</td>\n",
       "      <td>X-b4-QvZLENnf3yFwhpSXQ</td>\n",
       "      <td>[Baseball Fields, Stadiums &amp; Arenas, Active Li...</td>\n",
       "      <td>Pittsburgh</td>\n",
       "      <td>PNC Park</td>\n",
       "      <td>426</td>\n",
       "      <td>4.5</td>\n",
       "      <td>PA</td>\n",
       "    </tr>\n",
       "    <tr>\n",
       "      <th>15676</th>\n",
       "      <td>4.675836</td>\n",
       "      <td>Flamingo Rd</td>\n",
       "      <td>ty5KQYqYRxwXDG_e4pz-4w</td>\n",
       "      <td>[Arts &amp; Entertainment, Performing Arts]</td>\n",
       "      <td>Las Vegas</td>\n",
       "      <td>Absinthe</td>\n",
       "      <td>1452</td>\n",
       "      <td>4.5</td>\n",
       "      <td>NV</td>\n",
       "    </tr>\n",
       "    <tr>\n",
       "      <th>95839</th>\n",
       "      <td>4.672092</td>\n",
       "      <td>3600 S Las Vegas Blvd</td>\n",
       "      <td>NCFwm2-TDb-oBQ2medmYDg</td>\n",
       "      <td>[Street Art, Performing Arts, Public Services ...</td>\n",
       "      <td>Las Vegas</td>\n",
       "      <td>Fountains of Bellagio</td>\n",
       "      <td>1083</td>\n",
       "      <td>4.5</td>\n",
       "      <td>NV</td>\n",
       "    </tr>\n",
       "    <tr>\n",
       "      <th>87314</th>\n",
       "      <td>4.649546</td>\n",
       "      <td></td>\n",
       "      <td>jeTvVMOR8W_04xFsPjzOEQ</td>\n",
       "      <td>[Local Services, Movers, Home Services, Self S...</td>\n",
       "      <td>Phoenix</td>\n",
       "      <td>Camelback Moving</td>\n",
       "      <td>394</td>\n",
       "      <td>5.0</td>\n",
       "      <td>AZ</td>\n",
       "    </tr>\n",
       "  </tbody>\n",
       "</table>\n",
       "</div>"
      ],
      "text/plain": [
       "       predicted rating                address             business_id  \\\n",
       "36525          4.719550  3799 Las Vegas Blvd S  XnJeadLrlj9AZB8qSdIR2Q   \n",
       "89310          4.710545         115 Federal St  X-b4-QvZLENnf3yFwhpSXQ   \n",
       "15676          4.675836            Flamingo Rd  ty5KQYqYRxwXDG_e4pz-4w   \n",
       "95839          4.672092  3600 S Las Vegas Blvd  NCFwm2-TDb-oBQ2medmYDg   \n",
       "87314          4.649546                         jeTvVMOR8W_04xFsPjzOEQ   \n",
       "\n",
       "                                              categories        city  \\\n",
       "36525                              [Restaurants, French]   Las Vegas   \n",
       "89310  [Baseball Fields, Stadiums & Arenas, Active Li...  Pittsburgh   \n",
       "15676            [Arts & Entertainment, Performing Arts]   Las Vegas   \n",
       "95839  [Street Art, Performing Arts, Public Services ...   Las Vegas   \n",
       "87314  [Local Services, Movers, Home Services, Self S...     Phoenix   \n",
       "\n",
       "                        name  review_count  stars state  \n",
       "36525         Joël  Robuchon           831    4.5    NV  \n",
       "89310               PNC Park           426    4.5    PA  \n",
       "15676               Absinthe          1452    4.5    NV  \n",
       "95839  Fountains of Bellagio          1083    4.5    NV  \n",
       "87314       Camelback Moving           394    5.0    AZ  "
      ]
     },
     "execution_count": 88,
     "metadata": {},
     "output_type": "execute_result"
    }
   ],
   "source": [
    "get_reccomendations(\"---1lKK3aKOuomHnwAkAow\",5,preds_array_reg_df)"
   ]
  },
  {
   "cell_type": "markdown",
   "metadata": {},
   "source": [
    "Our baseline model based on lasso predicts restaurants completely unrelated to users preferences. Bad... At least it's mostly in Las Vegas"
   ]
  },
  {
   "cell_type": "markdown",
   "metadata": {},
   "source": [
    "##### Predict using matrix factorization"
   ]
  },
  {
   "cell_type": "code",
   "execution_count": 87,
   "metadata": {},
   "outputs": [
    {
     "data": {
      "text/html": [
       "<div>\n",
       "<style>\n",
       "    .dataframe thead tr:only-child th {\n",
       "        text-align: right;\n",
       "    }\n",
       "\n",
       "    .dataframe thead th {\n",
       "        text-align: left;\n",
       "    }\n",
       "\n",
       "    .dataframe tbody tr th {\n",
       "        vertical-align: top;\n",
       "    }\n",
       "</style>\n",
       "<table border=\"1\" class=\"dataframe\">\n",
       "  <thead>\n",
       "    <tr style=\"text-align: right;\">\n",
       "      <th></th>\n",
       "      <th>predicted rating</th>\n",
       "      <th>address</th>\n",
       "      <th>business_id</th>\n",
       "      <th>categories</th>\n",
       "      <th>city</th>\n",
       "      <th>name</th>\n",
       "      <th>review_count</th>\n",
       "      <th>stars</th>\n",
       "      <th>state</th>\n",
       "    </tr>\n",
       "  </thead>\n",
       "  <tbody>\n",
       "    <tr>\n",
       "      <th>43284</th>\n",
       "      <td>0.202872</td>\n",
       "      <td>3400 E Sky Harbor Blvd, Ste 3300</td>\n",
       "      <td>JmI9nslLD7KZqRr__Bg6NQ</td>\n",
       "      <td>[Hotels &amp; Travel, Airports]</td>\n",
       "      <td>Phoenix</td>\n",
       "      <td>Phoenix Sky Harbor International Airport</td>\n",
       "      <td>2103</td>\n",
       "      <td>3.0</td>\n",
       "      <td>AZ</td>\n",
       "    </tr>\n",
       "    <tr>\n",
       "      <th>36211</th>\n",
       "      <td>0.122170</td>\n",
       "      <td>3950 S Las Vegas Blvd</td>\n",
       "      <td>Cni2l-VKG_pdospJ6xliXQ</td>\n",
       "      <td>[Bars, Nightlife, Burgers, American (New), Res...</td>\n",
       "      <td>Las Vegas</td>\n",
       "      <td>Burger Bar</td>\n",
       "      <td>2396</td>\n",
       "      <td>4.0</td>\n",
       "      <td>NV</td>\n",
       "    </tr>\n",
       "    <tr>\n",
       "      <th>155316</th>\n",
       "      <td>0.091723</td>\n",
       "      <td>3355 South Las Vegas Boulevard</td>\n",
       "      <td>Wxxvi3LZbHNIDwJ-ZimtnA</td>\n",
       "      <td>[Resorts, Arts &amp; Entertainment, Event Planning...</td>\n",
       "      <td>Las Vegas</td>\n",
       "      <td>The Venetian Las Vegas</td>\n",
       "      <td>2951</td>\n",
       "      <td>4.0</td>\n",
       "      <td>NV</td>\n",
       "    </tr>\n",
       "    <tr>\n",
       "      <th>115819</th>\n",
       "      <td>0.068040</td>\n",
       "      <td>3131 Las Vegas Blvd S</td>\n",
       "      <td>MpmFFw0GE_2iRFPdsRpJbA</td>\n",
       "      <td>[Nightlife, Dance Clubs]</td>\n",
       "      <td>Las Vegas</td>\n",
       "      <td>XS Nightclub</td>\n",
       "      <td>2848</td>\n",
       "      <td>4.0</td>\n",
       "      <td>NV</td>\n",
       "    </tr>\n",
       "    <tr>\n",
       "      <th>106982</th>\n",
       "      <td>0.056872</td>\n",
       "      <td>3799 Las Vegas Blvd S</td>\n",
       "      <td>El4FC8jcawUVgw_0EIcbaQ</td>\n",
       "      <td>[Restaurants, Casinos, Hotels &amp; Travel, Event ...</td>\n",
       "      <td>Las Vegas</td>\n",
       "      <td>MGM Grand Hotel</td>\n",
       "      <td>3285</td>\n",
       "      <td>3.0</td>\n",
       "      <td>NV</td>\n",
       "    </tr>\n",
       "  </tbody>\n",
       "</table>\n",
       "</div>"
      ],
      "text/plain": [
       "        predicted rating                           address  \\\n",
       "43284           0.202872  3400 E Sky Harbor Blvd, Ste 3300   \n",
       "36211           0.122170             3950 S Las Vegas Blvd   \n",
       "155316          0.091723    3355 South Las Vegas Boulevard   \n",
       "115819          0.068040             3131 Las Vegas Blvd S   \n",
       "106982          0.056872             3799 Las Vegas Blvd S   \n",
       "\n",
       "                   business_id  \\\n",
       "43284   JmI9nslLD7KZqRr__Bg6NQ   \n",
       "36211   Cni2l-VKG_pdospJ6xliXQ   \n",
       "155316  Wxxvi3LZbHNIDwJ-ZimtnA   \n",
       "115819  MpmFFw0GE_2iRFPdsRpJbA   \n",
       "106982  El4FC8jcawUVgw_0EIcbaQ   \n",
       "\n",
       "                                               categories       city  \\\n",
       "43284                         [Hotels & Travel, Airports]    Phoenix   \n",
       "36211   [Bars, Nightlife, Burgers, American (New), Res...  Las Vegas   \n",
       "155316  [Resorts, Arts & Entertainment, Event Planning...  Las Vegas   \n",
       "115819                           [Nightlife, Dance Clubs]  Las Vegas   \n",
       "106982  [Restaurants, Casinos, Hotels & Travel, Event ...  Las Vegas   \n",
       "\n",
       "                                            name  review_count  stars state  \n",
       "43284   Phoenix Sky Harbor International Airport          2103    3.0    AZ  \n",
       "36211                                 Burger Bar          2396    4.0    NV  \n",
       "155316                    The Venetian Las Vegas          2951    4.0    NV  \n",
       "115819                              XS Nightclub          2848    4.0    NV  \n",
       "106982                           MGM Grand Hotel          3285    3.0    NV  "
      ]
     },
     "execution_count": 87,
     "metadata": {},
     "output_type": "execute_result"
    }
   ],
   "source": [
    "get_reccomendations(\"---1lKK3aKOuomHnwAkAow\",5,fac_preds_df)"
   ]
  },
  {
   "cell_type": "raw",
   "metadata": {},
   "source": [
    "Our Matrix Factorization model predicts places in Las vegas related to nightlife and party, including restaurants with American Food. Not bad :)"
   ]
  }
 ],
 "metadata": {
  "kernelspec": {
   "display_name": "Python 3",
   "language": "python",
   "name": "python3"
  },
  "language_info": {
   "codemirror_mode": {
    "name": "ipython",
    "version": 3
   },
   "file_extension": ".py",
   "mimetype": "text/x-python",
   "name": "python",
   "nbconvert_exporter": "python",
   "pygments_lexer": "ipython3",
   "version": "3.6.1"
  }
 },
 "nbformat": 4,
 "nbformat_minor": 2
}
